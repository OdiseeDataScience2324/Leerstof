{
 "cells": [
  {
   "cell_type": "markdown",
   "id": "1ddce491",
   "metadata": {},
   "source": [
    "# Ensemble learning\n",
    "\n",
    "Ensemble learning is een manier om meerdere machine learning algorithmes te gaan combineren om een beter resultaat te bekomen.\n",
    "Een voorbeeld hiervan is Random Forest dat een ensemble is van een aantal decision trees. \n",
    "Een belangrijke opmerking hierbij is dat meerdere soorten machine learning algoritmes gecombineerd kunnen worden.\n",
    "Er zijn hier drie bekende varianten van, namelijk:\n",
    "* Stacking\n",
    "* Bagging\n",
    "* Boosting\n",
    "\n",
    "Deze varianten gaan we nu 1 voor 1 behandelen.\n",
    "\n",
    "# Stacking \n",
    "\n",
    "Een schets van hoe een stacking-ensemble werkt zie je hieronder.\n",
    "Bij de stacking-methode wordt de volledige trainingsdata gebruikt om meerdere modellen te trainen.\n",
    "Deze kunnen maar moeten niet van hetzelfde algoritme zijn en ook de hyperparameters kunnen verschillen.\n",
    "Nadat al deze modellen getrained zijn, wordt er nog model getrained dat een selectie maakt van wat de uiteindelijke voorspelling is op basis van de uitkomst van alle getrainde modellen.\n",
    "Dit tweede model kan dus evalueren wanneer welk model het meest correct is.\n",
    "Het algoritme hiervoor kan vrij gekozen worden en kan zelfs een ander ensemble zijn.\n",
    "Bij stacking is dus niet strikt majority voting van toepassing.\n",
    "\n",
    "![ensemble](images\\stacking.png)\n",
    "\n",
    "Een [stacking ensemble](https://scikit-learn.org/stable/modules/generated/sklearn.ensemble.StackingClassifier.html) kan als volgt geimplementeerd worden in sklearn:"
   ]
  },
  {
   "cell_type": "code",
   "execution_count": 4,
   "id": "36d42fd8",
   "metadata": {},
   "outputs": [
    {
     "data": {
      "text/plain": [
       "0.9473684210526315"
      ]
     },
     "execution_count": 4,
     "metadata": {},
     "output_type": "execute_result"
    }
   ],
   "source": [
    "from sklearn.datasets import load_iris\n",
    "from sklearn.ensemble import RandomForestClassifier\n",
    "from sklearn.linear_model import LogisticRegression\n",
    "from sklearn.svm import SVC\n",
    "from sklearn.preprocessing import StandardScaler\n",
    "from sklearn.neighbors import KNeighborsClassifier\n",
    "from sklearn.ensemble import StackingClassifier\n",
    "from sklearn.model_selection import train_test_split\n",
    "\n",
    "X, y = load_iris(return_X_y=True)\n",
    "scaler = StandardScaler()\n",
    "X = scaler.fit_transform(X)\n",
    "\n",
    "# stack met estimators\n",
    "estimators = [\n",
    "    ('rf', RandomForestClassifier(n_estimators=100)),\n",
    "    ('lr', LogisticRegression(C=100)),\n",
    "    ('svc', SVC(C=10)),\n",
    "    ('knn', KNeighborsClassifier(n_neighbors=3))\n",
    "]\n",
    "\n",
    "# maak de stacking classifier met de bovenstaande stack\n",
    "stack = StackingClassifier(estimators=estimators, final_estimator=LogisticRegression())\n",
    "X_train, X_test, y_train, y_test = train_test_split(X, y, stratify=y)  # stratify zorgt ervoor dat het percentage van klasses van X en y behouden blijft in de X_train, y_train\n",
    "stack.fit(X_train, y_train)\n",
    "stack.score(X_test, y_test)\n"
   ]
  },
  {
   "cell_type": "markdown",
   "id": "b4f8dc6a",
   "metadata": {},
   "source": [
    "# Bagging\n",
    "\n",
    "De tweede methode bagging is ook gekend onder de naam bootstrap bagging.\n",
    "Dit houdt in dat elk model slechts getrained wordt op een deel van de data (bootstrapped samples).\n",
    "Deze observaties om elk model te trainen worden willekeurig gekozen met teruglegging.\n",
    "Typisch wordt er ongeveer 60% van de totale data gebruikt om elk model te trainen.\n",
    "Wanneer elk model getrained is wordt er een standaard majority voting toegepast om de uiteindelijke predictie te bekomen (bij regressie wordt er het gemiddelde genomen).\n",
    "\n",
    "![bagging](images\\bagging.png)\n",
    "\n",
    "Een belangrijke opmerking is dat theoretisch gezien meerdere types van machine learning algoritmes gecombineerd kunnen worden maar dit dit niet rechtstreeks gaat met sklearn zonder zelf een ensemble te implementeren. \n",
    "Dit is ook niet nodig omdat zolang je ensemble groot genoeg is, je elke gewenste accuraatheid kan bereiken.\n",
    "Een implementatie van de [bagging methode](https://scikit-learn.org/stable/modules/generated/sklearn.ensemble.BaggingClassifier.html) ziet er als volgt uit:"
   ]
  },
  {
   "cell_type": "code",
   "execution_count": 7,
   "id": "ced313ed",
   "metadata": {},
   "outputs": [
    {
     "name": "stdout",
     "output_type": "stream",
     "text": [
      "CPU times: total: 15.6 ms\n",
      "Wall time: 7 ms\n",
      "CPU times: total: 0 ns\n",
      "Wall time: 4.01 ms\n"
     ]
    },
    {
     "data": {
      "text/plain": [
       "0.9473684210526315"
      ]
     },
     "execution_count": 7,
     "metadata": {},
     "output_type": "execute_result"
    }
   ],
   "source": [
    "# create bagging classifier\n",
    "from sklearn.ensemble import BaggingClassifier\n",
    "\n",
    "clf = BaggingClassifier(base_estimator=KNeighborsClassifier(), n_estimators=10, random_state=0)\n",
    "\n",
    "%time clf.fit(X_train, y_train)     # %time is een jupyter notebook tool om de tijd bij te houden hoe lang een commando duurt\n",
    "%time clf.score(X_test, y_test)"
   ]
  },
  {
   "cell_type": "markdown",
   "id": "e51c54da",
   "metadata": {},
   "source": [
    "# Boosting\n",
    "\n",
    "De derde variant van ensemble learning methoden is boosting.\n",
    "Dit is een aanpassing van de bagging methode waar de bootstrapped samples niet meer willekeurig zijn.\n",
    "Bij boosting worden de modellen sequentieel getrained en gevalideerd (met de trainingsdata diet niet in de bootstrapped sample zit). \n",
    "De classificaties die verkeerd waren bij deze validatie stap hebben een grotere kans om in de bootstrapped sample te zitten van het volgende model.\n",
    "Omdat de uitkomst van elk model nodig is voor het volgende kan dit niet geparallelliseerd worden waardoor de trainingstijd snel kan oplopen.\n",
    "Het voordeel echter van deze methode is dat de accuraatheid van het gecombineerde model hoger gaat zijn dan bij bagging.\n",
    "De meest bekende implementatie van deze methode wordt AdaBoost genoemd.\n",
    "Daarnaast wordt tegenwoordig ook XGBoost benoemd wat staat voor Extreme Gradient Boosting.\n",
    "Het probleem is echter dat deze techniek niet standaard in sklearn staat.\n",
    "Hiervoor moet een extra package toegevoegd worden, meer informatie hierover vind je [hier](https://towardsdatascience.com/getting-started-with-xgboost-in-scikit-learn-f69f5f470a97).\n",
    "Deze techniek is een speciale variant van een random forest (er wordt gewerkt met meerdere decision trees).\n",
    "Meer informatie over de api vind je [hier](https://xgboost.readthedocs.io/en/latest/python/python_api.html#xgboost.XGBClassifier).\n",
    "De voordelen van xgboost zijn:\n",
    "* Hoge accuraatheid\n",
    "* Heel snelle uitvoering door parallellisatie\n",
    "* Flexibel algoritme door keuse van optimalisatie\n",
    "* Kan omgaan met missing data\n",
    "* Voert autmatisch pruning uit om overfitting tegen te gaan\n",
    "* Ingebouwde cross-validatie\n",
    "\n",
    "![boosting](images\\boosting.png)\n",
    "\n",
    " Een implementatie van de [boosting methode](https://scikit-learn.org/stable/modules/generated/sklearn.ensemble.AdaBoostClassifier.html#sklearn.ensemble.AdaBoostClassifier) ziet er als volgt uit:"
   ]
  },
  {
   "cell_type": "code",
   "execution_count": 14,
   "id": "b3d728e8",
   "metadata": {},
   "outputs": [
    {
     "name": "stdout",
     "output_type": "stream",
     "text": [
      "CPU times: total: 46.9 ms\n",
      "Wall time: 24 ms\n",
      "CPU times: total: 0 ns\n",
      "Wall time: 2 ms\n"
     ]
    },
    {
     "data": {
      "text/plain": [
       "0.9210526315789473"
      ]
     },
     "execution_count": 14,
     "metadata": {},
     "output_type": "execute_result"
    }
   ],
   "source": [
    "# create boosting classifier\n",
    "from sklearn.ensemble import AdaBoostClassifier\n",
    "\n",
    "clf = AdaBoostClassifier(base_estimator=LogisticRegression(), n_estimators=10, random_state=0)\n",
    "\n",
    "%time clf.fit(X_train, y_train)     # %time is een jupyter notebook tool om de tijd bij te houden hoe lang een commando duurt\n",
    "%time clf.score(X_test, y_test)"
   ]
  },
  {
   "cell_type": "markdown",
   "id": "b0eebbd1",
   "metadata": {},
   "source": [
    "Meer informatie over alle mogelijke ensemble-methoden in sklearn vind je [hier](https://scikit-learn.org/stable/modules/classes.html#module-sklearn.ensemble)."
   ]
  },
  {
   "cell_type": "markdown",
   "id": "943df106",
   "metadata": {},
   "source": [
    "# XGBoost\n",
    "\n",
    "Gradient Boosting is een ML-techniek die iteratief modellen toevoegt aan een ensemble.\n",
    "Er wordt begonnen met een eenvoudig model dat zeer naief is.\n",
    "De voorspellingen van dit model worden gebruikt om een kost-functie te berekenen.\n",
    "Deze functie wordt dan gebruikt voor een nieuw model te trainen dat toegevoegd aan het ensemble.\n",
    "De parameters van dit nieuwe model worden zo gekozen dat de kost-functie verminderd.\n",
    "Met dit uitgebreide ensemble worden opnieuw voorspelling gedaan die het dan terug gebruikt worden om een kostfunctie te berekenen.\n",
    "\n",
    "De belangrijkste parameters van deze techniek zijn:\n",
    "* n_estimators: Geeft het maximum aantal bomen in het ensemble weer. Een lage waarde kan leiden tot underfitting, een grote tot overfitting.\n",
    "* learning rate: Dit kan gebruikt zorden om de impact van extra bomen te verkleinen om overfitting tegen te gaan. Lagere waarden gaan normaal een hogere accuraatheid maar ook een hogere trainingstijd opleveren.\n",
    "* early stopping: Deze parameter moet meegegeven worden bij het fitten en kan gebruikt worden om overfitting tegen te gaan. Indien de validation score niet afneemt gedurende dit aantal rondes, dan stopt de fit-functie omdat er overfitting gedetecteerd wordt.\n",
    "* eval_set: Deze parameter is een tuple van de validatieset dat gebruikt kan worden voor het early-stopping te testen. Deze moet dus met early-stopping gecombineerd worden.\n",
    "* n_jobs: aantal cores dat kan gebruikt worden voor de training\n",
    "\n",
    "\n",
    "Meer informatie over de parameters van deze techniek vind je [hier](https://xgboost.readthedocs.io/en/latest/python/python_api.html#module-xgboost.sklearn)."
   ]
  },
  {
   "cell_type": "code",
   "execution_count": 16,
   "id": "f5dc1c3c",
   "metadata": {},
   "outputs": [
    {
     "name": "stdout",
     "output_type": "stream",
     "text": [
      "[0]\tvalidation_0-mlogloss:1.03444\n",
      "[1]\tvalidation_0-mlogloss:0.97572\n",
      "[2]\tvalidation_0-mlogloss:0.92178\n",
      "[3]\tvalidation_0-mlogloss:0.87210\n",
      "[4]\tvalidation_0-mlogloss:0.82620\n",
      "[5]\tvalidation_0-mlogloss:0.78371\n",
      "[6]\tvalidation_0-mlogloss:0.74428\n",
      "[7]\tvalidation_0-mlogloss:0.70764\n",
      "[8]\tvalidation_0-mlogloss:0.67353\n",
      "[9]\tvalidation_0-mlogloss:0.64173\n",
      "[10]\tvalidation_0-mlogloss:0.61205\n",
      "[11]\tvalidation_0-mlogloss:0.58431\n",
      "[12]\tvalidation_0-mlogloss:0.55837\n",
      "[13]\tvalidation_0-mlogloss:0.53407\n",
      "[14]\tvalidation_0-mlogloss:0.51131\n",
      "[15]\tvalidation_0-mlogloss:0.48996\n",
      "[16]\tvalidation_0-mlogloss:0.46993\n",
      "[17]\tvalidation_0-mlogloss:0.45111\n",
      "[18]\tvalidation_0-mlogloss:0.43344\n",
      "[19]\tvalidation_0-mlogloss:0.41683\n",
      "[20]\tvalidation_0-mlogloss:0.40121\n",
      "[21]\tvalidation_0-mlogloss:0.38652\n",
      "[22]\tvalidation_0-mlogloss:0.37269\n",
      "[23]\tvalidation_0-mlogloss:0.35967\n",
      "[24]\tvalidation_0-mlogloss:0.34741\n",
      "[25]\tvalidation_0-mlogloss:0.33587\n",
      "[26]\tvalidation_0-mlogloss:0.32500\n",
      "[27]\tvalidation_0-mlogloss:0.31475\n",
      "[28]\tvalidation_0-mlogloss:0.30510\n",
      "[29]\tvalidation_0-mlogloss:0.29600\n",
      "[30]\tvalidation_0-mlogloss:0.28745\n",
      "[31]\tvalidation_0-mlogloss:0.27938\n",
      "[32]\tvalidation_0-mlogloss:0.27130\n",
      "[33]\tvalidation_0-mlogloss:0.26367\n",
      "[34]\tvalidation_0-mlogloss:0.25644\n",
      "[35]\tvalidation_0-mlogloss:0.25005\n",
      "[36]\tvalidation_0-mlogloss:0.24358\n",
      "[37]\tvalidation_0-mlogloss:0.23746\n",
      "[38]\tvalidation_0-mlogloss:0.23167\n",
      "[39]\tvalidation_0-mlogloss:0.22662\n",
      "[40]\tvalidation_0-mlogloss:0.22144\n",
      "[41]\tvalidation_0-mlogloss:0.21653\n",
      "[42]\tvalidation_0-mlogloss:0.21189\n",
      "[43]\tvalidation_0-mlogloss:0.20719\n",
      "[44]\tvalidation_0-mlogloss:0.20256\n",
      "[45]\tvalidation_0-mlogloss:0.19830\n",
      "[46]\tvalidation_0-mlogloss:0.19474\n",
      "[47]\tvalidation_0-mlogloss:0.19093\n",
      "[48]\tvalidation_0-mlogloss:0.18776\n",
      "[49]\tvalidation_0-mlogloss:0.18478\n",
      "[50]\tvalidation_0-mlogloss:0.18153\n",
      "[51]\tvalidation_0-mlogloss:0.17887\n",
      "[52]\tvalidation_0-mlogloss:0.17631\n",
      "[53]\tvalidation_0-mlogloss:0.17426\n",
      "[54]\tvalidation_0-mlogloss:0.17234\n",
      "[55]\tvalidation_0-mlogloss:0.17063\n",
      "[56]\tvalidation_0-mlogloss:0.16904\n",
      "[57]\tvalidation_0-mlogloss:0.16756\n",
      "[58]\tvalidation_0-mlogloss:0.16620\n",
      "[59]\tvalidation_0-mlogloss:0.16496\n",
      "[60]\tvalidation_0-mlogloss:0.16362\n",
      "[61]\tvalidation_0-mlogloss:0.16239\n",
      "[62]\tvalidation_0-mlogloss:0.16141\n",
      "[63]\tvalidation_0-mlogloss:0.16035\n",
      "[64]\tvalidation_0-mlogloss:0.15946\n",
      "[65]\tvalidation_0-mlogloss:0.15848\n",
      "[66]\tvalidation_0-mlogloss:0.15774\n",
      "[67]\tvalidation_0-mlogloss:0.15691\n",
      "[68]\tvalidation_0-mlogloss:0.15614\n",
      "[69]\tvalidation_0-mlogloss:0.15543\n",
      "[70]\tvalidation_0-mlogloss:0.15479\n",
      "[71]\tvalidation_0-mlogloss:0.15421\n",
      "[72]\tvalidation_0-mlogloss:0.15370\n",
      "[73]\tvalidation_0-mlogloss:0.15323\n",
      "[74]\tvalidation_0-mlogloss:0.15283\n",
      "[75]\tvalidation_0-mlogloss:0.15247\n",
      "[76]\tvalidation_0-mlogloss:0.15216\n",
      "[77]\tvalidation_0-mlogloss:0.15189\n",
      "[78]\tvalidation_0-mlogloss:0.15167\n",
      "[79]\tvalidation_0-mlogloss:0.15149\n",
      "[80]\tvalidation_0-mlogloss:0.15134\n",
      "[81]\tvalidation_0-mlogloss:0.15142\n",
      "[82]\tvalidation_0-mlogloss:0.15123\n",
      "[83]\tvalidation_0-mlogloss:0.15113\n",
      "[84]\tvalidation_0-mlogloss:0.15168\n",
      "[85]\tvalidation_0-mlogloss:0.15208\n",
      "[86]\tvalidation_0-mlogloss:0.15266\n",
      "[87]\tvalidation_0-mlogloss:0.15325\n",
      "[88]\tvalidation_0-mlogloss:0.15386\n"
     ]
    },
    {
     "name": "stderr",
     "output_type": "stream",
     "text": [
      "c:\\Users\\jens.baetens3\\AppData\\Local\\Programs\\Python\\Python310\\lib\\site-packages\\xgboost\\sklearn.py:861: UserWarning: `early_stopping_rounds` in `fit` method is deprecated for better compatibility with scikit-learn, use `early_stopping_rounds` in constructor or`set_params` instead.\n",
      "  warnings.warn(\n"
     ]
    },
    {
     "data": {
      "text/plain": [
       "0.9473684210526315"
      ]
     },
     "execution_count": 16,
     "metadata": {},
     "output_type": "execute_result"
    }
   ],
   "source": [
    "# create xgboost classifier\n",
    "from xgboost import XGBClassifier\n",
    "\n",
    "clf = XGBClassifier(n_estimators=1000, learning_rate=0.05)      \n",
    "# learning rate: de grootte van de stappen om tot het optimum te komen: te laag - duurt lang om te trainen, te hoog en de training kan onstabiel worden\n",
    "clf.fit(X_train, y_train, early_stopping_rounds= 5, eval_set=[(X_test, y_test)])\n",
    "\n",
    "clf.score(X_test, y_test)"
   ]
  },
  {
   "cell_type": "code",
   "execution_count": null,
   "id": "a4ebb626",
   "metadata": {},
   "outputs": [],
   "source": []
  }
 ],
 "metadata": {
  "kernelspec": {
   "display_name": "Python 3.10.5 64-bit",
   "language": "python",
   "name": "python3"
  },
  "language_info": {
   "codemirror_mode": {
    "name": "ipython",
    "version": 3
   },
   "file_extension": ".py",
   "mimetype": "text/x-python",
   "name": "python",
   "nbconvert_exporter": "python",
   "pygments_lexer": "ipython3",
   "version": "3.10.5"
  },
  "vscode": {
   "interpreter": {
    "hash": "d5e8e3a19af5ceb2434683dff87da6345c3b29f7eb0a8a138558c07d014a01cc"
   }
  }
 },
 "nbformat": 4,
 "nbformat_minor": 5
}
