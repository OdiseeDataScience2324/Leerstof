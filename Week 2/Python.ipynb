{
 "cells": [
  {
   "cell_type": "markdown",
   "id": "f51c7a21",
   "metadata": {},
   "source": [
    "## Oefeningen Python - Numpy\n",
    "\n",
    "## Gok het correcte getal\n",
    "\n",
    "Maak een klasse voor een spel waarbij je een willekeurig getal moet gokken.\n",
    "Deze klasse moet de volgende zaken doen:\n",
    "* Een willekeurig getal tussen 0 en 20 genereren\n",
    "* Een \"start\" functie hebben om het spel te starten\n",
    "* In deze functie moet er herhaaldelijk om input gevraagd worden aan de gebruiker.\n",
    "* De input moet vergeleken worden met het random getal. Als je input:\n",
    "    * kleiner is dan het willekeurig getal, print je \"Te laag\"\n",
    "    * groter is dan het willekeurig getal, print je \"Te hoog\"\n",
    "    * gelijk is aan het getal, eindig je en print je dat je bent gewonnen\n",
    "    * Gelijk is aan \"Exit\", eindig je en print je dat je verloren bent.\n",
    "* Om te eindigen print je nog de volgende statistieken:\n",
    "    * Hoeveel keer dat je gegokt hebt\n",
    "    * Hoeveel je er gemiddeld naast zat\n",
    "    \n",
    "Vergeet zeker niet om de code te voorzien om het spel te starten"
   ]
  },
  {
   "cell_type": "code",
   "execution_count": 1,
   "id": "2167f504",
   "metadata": {},
   "outputs": [],
   "source": [
    "# tips voor met notebooks \n",
    "\n",
    "# cell toevoegen met de knoptjes of je kan dat doen met a of b (above of below)\n",
    "# cellen verwijderen doe je met x (ctrl + x)\n",
    "# verwijderde cell plakken doe je met v (ctrl + v)\n",
    "\n",
    "# code uitvoeren: shift + enter"
   ]
  },
  {
   "cell_type": "code",
   "execution_count": 4,
   "id": "dfdc6bd8",
   "metadata": {},
   "outputs": [
    {
     "name": "stdout",
     "output_type": "stream",
     "text": [
      "Te laag\n",
      "Te laag\n",
      "Te laag\n",
      "Te laag\n",
      "Te laag\n",
      "Je bent gewonnen\n",
      "Aantal gokken 6\n",
      "Gemiddelde fout 3.5\n"
     ]
    }
   ],
   "source": [
    "import random\n",
    "\n",
    "class HigherLower():\n",
    "\n",
    "    # constructor\n",
    "    def __init__(self):\n",
    "        self.to_guess = random.randint(0, 20)   # willekeurig getalletje in [0, 20]\n",
    "        pass # dit moet er enkel staan als het de enige lijn is, anders mag het weg\n",
    "\n",
    "    def start(self):\n",
    "        # self == this uit c#\n",
    "\n",
    "        done = False\n",
    "        num_guesses = 0\n",
    "        total_error = 0\n",
    "\n",
    "        while not done:\n",
    "            prompt = input(\"Geef een gok voor het willekeurige getal\")\n",
    "            if prompt == \"Exit\" or prompt == \"exit\":\n",
    "                print(\"Je bent verloren\")\n",
    "                break\n",
    "            \n",
    "            # de try catch van c# is try except\n",
    "            try:\n",
    "                guess = int(prompt)\n",
    "                num_guesses += 1\n",
    "                total_error += abs(self.to_guess - guess)\n",
    "\n",
    "                if guess == self.to_guess:\n",
    "                    print(\"Je bent gewonnen\")\n",
    "                    done = True\n",
    "                elif guess > self.to_guess:\n",
    "                    print(\"Te hoog\")\n",
    "                else:\n",
    "                    print(\"Te laag\")\n",
    "            except:\n",
    "                print(\"Geen geldig getal\")\n",
    "                \n",
    "            pass\n",
    "    \n",
    "        print(\"Aantal gokken\", num_guesses)\n",
    "        print(\"Gemiddelde fout\", total_error / num_guesses)\n",
    "\n",
    "# een object aanmaken van HigherLower\n",
    "game = HigherLower()\n",
    "game.start()"
   ]
  },
  {
   "cell_type": "markdown",
   "id": "4ede9315",
   "metadata": {},
   "source": [
    "## Matrix bewerkingen\n",
    "\n",
    "Maak functie voor het aanmaken een matrix waar elk waarde het product is van zijn rij en kolom index (bvb op rij 4 en kolom 5 moet er 20 staan). Deze functie moet als argument het aantal rij en aantal kolommen hebben.\n",
    "\n",
    "Maak met behulp van deze functie een matrix \"a\" van 5 rijen en 7 kolommen aan."
   ]
  },
  {
   "cell_type": "code",
   "execution_count": null,
   "id": "627746bf",
   "metadata": {},
   "outputs": [],
   "source": [
    "# als je error krijgt die lijkt op: import numpy not found\n",
    "!pip install numpy  # dit installeert numpy (je moet dit maar 1 keer doen)\n",
    "# het uitroepingsteken is om het uit te voeren in de cli en niet als python code\n",
    "\n",
    "# deze mag je ook installeren\n",
    "!pip install pandas\n",
    "!pip install opendatasets"
   ]
  },
  {
   "cell_type": "code",
   "execution_count": 6,
   "id": "9d63a17f",
   "metadata": {},
   "outputs": [
    {
     "name": "stdout",
     "output_type": "stream",
     "text": [
      "[[ 0.  0.  0.  0.  0.  0.  0.]\n",
      " [ 0.  1.  2.  3.  4.  5.  6.]\n",
      " [ 0.  2.  4.  6.  8. 10. 12.]\n",
      " [ 0.  3.  6.  9. 12. 15. 18.]\n",
      " [ 0.  4.  8. 12. 16. 20. 24.]]\n"
     ]
    }
   ],
   "source": [
    "import numpy as np  # np is de standaardafkorting\n",
    "\n",
    "def make_matrix(num_rows, num_cols):\n",
    "    matrix = np.zeros((num_rows, num_cols))\n",
    "    for i in range(num_rows):\n",
    "        for j in range(num_cols):\n",
    "            matrix[i,j] = i * j\n",
    "    return matrix\n",
    "\n",
    "a = make_matrix(5, 7)\n",
    "print(a)"
   ]
  },
  {
   "cell_type": "markdown",
   "id": "49095555",
   "metadata": {},
   "source": [
    "Maak een functie die met behulp van slicing de volgorde van de elementen in matrix \"a\" omdraait."
   ]
  },
  {
   "cell_type": "code",
   "execution_count": 7,
   "id": "7914e68b",
   "metadata": {},
   "outputs": [
    {
     "data": {
      "text/plain": [
       "array([[24., 20., 16., 12.,  8.,  4.,  0.],\n",
       "       [18., 15., 12.,  9.,  6.,  3.,  0.],\n",
       "       [12., 10.,  8.,  6.,  4.,  2.,  0.],\n",
       "       [ 6.,  5.,  4.,  3.,  2.,  1.,  0.],\n",
       "       [ 0.,  0.,  0.,  0.,  0.,  0.,  0.]])"
      ]
     },
     "execution_count": 7,
     "metadata": {},
     "output_type": "execute_result"
    }
   ],
   "source": [
    "a[::-1, ::-1] # min:max:step , -1 is achterwaarts"
   ]
  },
  {
   "cell_type": "markdown",
   "id": "1f49bd78",
   "metadata": {},
   "source": [
    "Bereken de mean, median en standard deviation van elke kolom in matrix  \"a\"."
   ]
  },
  {
   "cell_type": "code",
   "execution_count": 11,
   "id": "0ba11e4a",
   "metadata": {},
   "outputs": [
    {
     "name": "stdout",
     "output_type": "stream",
     "text": [
      "[ 0.  2.  4.  6.  8. 10. 12.]\n",
      "[ 0.  2.  4.  6.  8. 10. 12.]\n",
      "[0.         1.41421356 2.82842712 4.24264069 5.65685425 7.07106781\n",
      " 8.48528137]\n"
     ]
    }
   ],
   "source": [
    "a.mean() # gemiddelde van alle elementen\n",
    "print(a.mean(axis=0))\n",
    "print(np.median(a, axis=0))\n",
    "print(a.std(axis=0))"
   ]
  },
  {
   "cell_type": "markdown",
   "id": "d5324de0",
   "metadata": {},
   "source": [
    "Bereken hoeveel elementen in matrix \"a\" groter zijn dan 20"
   ]
  },
  {
   "cell_type": "code",
   "execution_count": 12,
   "id": "fbf7f3cd",
   "metadata": {},
   "outputs": [
    {
     "data": {
      "text/plain": [
       "array([[False, False, False, False, False, False, False],\n",
       "       [False, False, False, False, False, False, False],\n",
       "       [False, False, False, False, False, False, False],\n",
       "       [False, False, False, False, False, False, False],\n",
       "       [False, False, False, False, False, False,  True]])"
      ]
     },
     "execution_count": 12,
     "metadata": {},
     "output_type": "execute_result"
    }
   ],
   "source": [
    "a > 20"
   ]
  },
  {
   "cell_type": "code",
   "execution_count": 13,
   "id": "1f2281d3",
   "metadata": {},
   "outputs": [
    {
     "data": {
      "text/plain": [
       "array([24.])"
      ]
     },
     "execution_count": 13,
     "metadata": {},
     "output_type": "execute_result"
    }
   ],
   "source": [
    "a[a>20]"
   ]
  },
  {
   "cell_type": "code",
   "execution_count": null,
   "id": "07b1a9cf",
   "metadata": {},
   "outputs": [],
   "source": []
  }
 ],
 "metadata": {
  "kernelspec": {
   "display_name": "Python 3",
   "language": "python",
   "name": "python3"
  },
  "language_info": {
   "codemirror_mode": {
    "name": "ipython",
    "version": 3
   },
   "file_extension": ".py",
   "mimetype": "text/x-python",
   "name": "python",
   "nbconvert_exporter": "python",
   "pygments_lexer": "ipython3",
   "version": "3.10.5"
  }
 },
 "nbformat": 4,
 "nbformat_minor": 5
}
