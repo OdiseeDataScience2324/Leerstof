{
 "cells": [
  {
   "cell_type": "markdown",
   "id": "57853409",
   "metadata": {
    "slideshow": {
     "slide_type": "slide"
    }
   },
   "source": [
    "# Data Science - Python Intro\n",
    "\n",
    "## Installatie\n",
    "\n",
    "Om Python en Jupyter Notebook te installeren volg je [deze link](https://www.anaconda.com/products/individual#windows).\n",
    "Anaconda is een bundle met Python en een groot aantal extra packages die vaak gebruikt worden bij Data Science en Machine Learning.\n",
    "Download de executable en installeer het.\n",
    "Hierbij mogen de default opties gekozen worden.\n",
    "\n",
    "Ook al heeft Anaconda zijn eigen package manager (conda), niet alle packages kunnen door deze correct gevonden worden. Daarom moet je ook nog pip installeren door middel van onderstaande commando.\n",
    "\n",
    "Dit is bijgetypt als voorbeeld"
   ]
  },
  {
   "cell_type": "code",
   "execution_count": 1,
   "id": "6bcce111",
   "metadata": {},
   "outputs": [
    {
     "name": "stdout",
     "output_type": "stream",
     "text": [
      "^C\n"
     ]
    }
   ],
   "source": [
    "!conda install pip"
   ]
  },
  {
   "cell_type": "markdown",
   "id": "6471b022",
   "metadata": {},
   "source": [
    "Clone nu de github repo waar deze file in staat. Deze kan gevonden worden via [de link, pas dit aan naar de repo van dit jaar](TODO).\n",
    "Open nu een commandprompt (cmd.exe) en navigeer met behulp van cd naar de folder waar je de repo geplaatst hebt.\n",
    "Voer op die plaats het commando **jupyter notebook** uit.\n",
    "Dit opent een webpagina met de inhoud van je folder waar je zat.\n",
    "Open nu het notebook dat we hier gebruiken (Deze file noemt **PythonIntro**).\n",
    "\n",
    "Op dit punt zou je hetzelfde moeten zien als hier staat."
   ]
  },
  {
   "cell_type": "markdown",
   "id": "333222cf",
   "metadata": {},
   "source": [
    "## Jupyter notebook\n",
    "\n",
    "Jupyter notebook maakt het mogelijk om hier zowel de opgave, uitleg als code te tonen en uit te voeren.\n",
    "Hiervoor wordt er gebruik gemaakt van cellen.\n",
    "Ook is het mogelijk om zowel code als tekstuele vragen te stellen.\n",
    "\n",
    "Een korte intro over jupyter notebook kan je [hier](https://realpython.com/jupyter-notebook-introduction/) lezen.\n",
    "In grote lijnen wordt er gewerkt met cellen. Het type van de cel bepaalt of het python-code of plain text (markdown) bevat.\n",
    "Cellen worden automatisch toegevoegd na het uitvoeren van de laatste cel maar je kan ook er manueel toevoegen onder het menu-item insert of door gebruik te maken van de knoppen \"a\" en \"b\" (Hierbij moet je wel eerst uit de cell gaan door middel van Esc). Met deze laatste methode kan je op de gewenste plaats cellen gaan toevoegen.\n",
    "\n",
    "Uitvoeren van een code cel zorgt ervoor dat de python code die in die cell staat uitgevoerd wordt. In het geval van een markdown cell wordt de tekst gerendered.\n",
    "Om 1 cell uit te voeren is \"shift+enter\" de gemakkeljkste methode omdat dan de onderstaande cell automatisch geselecteerd wordt. Deze manier wordt ook gebruikt bij het pijltje met de tekst \"Run\" bovenaan.\n",
    "Andere methoden kan je vinden onder het menu \"Cell\" waarbij je bijvoorbeeld ook van boven naar beneden alle cellen kan laten uitvoeren.\n",
    "Als je ooit in een situatie zit waar je een endless loop gemaakt hebt of je code lijkt vast te zitten, kan je onder kernel een aantal manieren vinden om het uitvoeren te stoppen. \n",
    "Merk op dat als je de kernel stopt, je dan ook alle variabelen en objecten kwijt bent en je opnieuw de code vanin het begin moet uitvoeren.\n",
    "\n",
    "**Let op:** Bij het pushen naar github van de code is het aangeraden om de output te verwijderen die je hebt gegenereerd.\n",
    "Dit kan de bestandsgrootte sterk reduceren en vermijdt conflicten. \n",
    "Hierbij is het dan wel nodig om ervoor te zorgen dat je code van boven naar beneden kan uitgevoerd worden (met de knop run-all)."
   ]
  },
  {
   "cell_type": "markdown",
   "id": "1ccc490f",
   "metadata": {},
   "source": [
    "## Python intro\n",
    "\n",
    "Python is een open-source programmeertaal ontwikkeld en ontworpen begin jaren 90. \n",
    "Net zoals C# is het een object-georienteerde programmeertaal waarin gebruik gemaakt wordt van klassen en objecten voor structuur aan te brengen in je code. \n",
    "Het doel van Python is om een zeer leesbare programmeertaal te zijn en code lijkt sterk op pseudocode. \n",
    "In dit vak werken we met Python versie 3.x. \n",
    "De syntax vanaf versie 3 is licht afwijkend met die van Python versie 2.x.\n",
    "\n",
    "Het grootste verschil met C# is dat Python een scripting taal is die gebruik maakt van een interpreter in plaats van een compiler. Dit houdt in dat er geen compile/build step is. Een file of een tekst met Python code wordt door de interpreter ingelezen en lijn voor lijn uitgevoerd.\n",
    "\n",
    "Python code kan\n",
    " * Rechtstreeks in de commandline uitgevoerd worden. Voer hiervoor het commando \"python\" uit. Dit start de interpreter waar er berekeningen kunnen uitgevoerd worden.\n",
    " * Je kan een file aanmaken waar dezelfde lijnen in staan. Wanneer je nu navigeert naar je directory in commandline en daar het commando \"python **filename**.py\" uitvoert, dan krijg je hetzelfde resultaat. Merk op dat files met python code standaard de extensie .py hebben maar dat dit niet strikt noodzakelijk is.\n",
    " * Daarnaast kan je net hetzelfde doen in een cell van jupyter notebook"
   ]
  },
  {
   "cell_type": "code",
   "execution_count": 1,
   "id": "760aa21a",
   "metadata": {},
   "outputs": [
    {
     "name": "stdout",
     "output_type": "stream",
     "text": [
      "12\n"
     ]
    }
   ],
   "source": [
    "a = 5\n",
    "b = 7 \n",
    "\n",
    "c = a+b\n",
    "print(c)\n",
    "# Dit is een commentaar lijn\n",
    "# Dit is een andere lijn\n",
    "#\n",
    "#"
   ]
  },
  {
   "cell_type": "markdown",
   "id": "e965da90",
   "metadata": {},
   "source": [
    "De grootste verschillen met C# zijn:\n",
    "* Een scripting taal dus geen compileer stap nodig (het kan wel gedaan worden voor de snelheid van het programma te verbeteren)\n",
    "* Dynamisch typecasting dus moet niet steeds het type meegegeven worden bij het aanmaken van variabele, definieren van functies en klassen\n",
    "* Indentation ipv van accolades voor code blocks\n",
    "\n",
    "Nu ga ik een hele reeks zaken overlopen om de basis van python te leren kennen. \n",
    "Merk op dat in de loop van dit vak we python gaan gebruiken op een vereenvoudigde manier dus is het niet nodig om alle details te kennen van hoe python werkt."
   ]
  },
  {
   "cell_type": "code",
   "execution_count": 64,
   "id": "0db7bfff",
   "metadata": {},
   "outputs": [
    {
     "name": "stdout",
     "output_type": "stream",
     "text": [
      "0\n",
      "Jens\n",
      "{'0': 'Naam', 1: 'naam', 3: 'test', 'Jens': 'value'}\n",
      "0 , Jens , {'0': 'Naam', 1: 'naam', 3: 'test', 'Jens': 'value'}\n",
      "test test {'0': 'Naam', 1: 'naam', 3: 'test', 'Jens': 'value'} test\n",
      "5 10\n"
     ]
    }
   ],
   "source": [
    "# aanmaken van een floating point\n",
    "a = 6.3\n",
    "b = -5.2\n",
    "a-b\n",
    "\n",
    "# aanmaken van een string\n",
    "a = int(\"5\")\n",
    "b = int('7')\n",
    "a+b\n",
    "len(\"dit is een lange string!\")\n",
    "\n",
    "# aanmaken van een list (meerdere types combineren kan maar is niet vaak gewenst)\n",
    "lijstje = [0,1,2,3,\"4\",5,\"6\",7,True,9]\n",
    "lijstje[2]\n",
    "lijstje[-2]\n",
    "lijstje[3:5]\n",
    "#lijstje[begin:end:step]\n",
    "lijstje[1:-1:2]\n",
    "\n",
    "# aanmaken tuple\n",
    "i, naam = (0, \"Jens\")\n",
    "print(i)\n",
    "print(naam)\n",
    "\n",
    "# aanmaken dictionary\n",
    "dictionary = {\"0\": \"Naam\", 1:\"naam\", 3:\"test\"}\n",
    "dictionary[\"Jens\"]=\"value\"\n",
    "print(dictionary)\n",
    "\n",
    "# output (concatenate of multiple arguments of f-strings f'adfafd {geen string object} afdaf' )\n",
    "print(i,naam,dictionary, sep=\" , \")\n",
    "print(f'test test {dictionary} test')\n",
    "\n",
    "# input\n",
    "#input()\n",
    "\n",
    "# set string om naar int of omgekeerd\n",
    "str(a)\n",
    "\n",
    "# aanmaken functie (default args)\n",
    "def functienaam(a= 2, b = 1):\n",
    "    return a+b\n",
    "\n",
    "functienaam(b=6)\n",
    "\n",
    "# if-test\n",
    "if a > b:\n",
    "    pass\n",
    "elif a < b:\n",
    "    pass\n",
    "else:\n",
    "    pass\n",
    "\n",
    "# for loop\n",
    "#for iterator in range(20):\n",
    "#    print(iterator)\n",
    "\n",
    "# while loop\n",
    "while a < b:\n",
    "    break\n",
    "    \n",
    "# insert in lijst\n",
    "#lijstje.append(20)\n",
    "#lijstje.extend(range(10))\n",
    "lijstje.insert(1, \"a\")\n",
    "lijstje\n",
    "\n",
    "# lijst concatenation\n",
    "\n",
    "lijstje + lijstje\n",
    "\n",
    "# classe aanmaken\n",
    "class Person:\n",
    "    age=0\n",
    "    \n",
    "    def __init__(self, name, age=0, adress=\"a\"):\n",
    "        self.naam = name\n",
    "        self.age = age\n",
    "        self.leeftijd = age\n",
    "        self.adress = adress\n",
    "        \n",
    "persoon = Person(\"test1\", 5)\n",
    "persoon2 = Person(\"test2\", 10)\n",
    "\n",
    "print(persoon.age, persoon2.age)\n",
    "\n",
    "# Inheritance\n",
    "\n",
    "class Student(Person):\n",
    "    \n",
    "    def __init__(self, ...):"
   ]
  },
  {
   "cell_type": "markdown",
   "id": "f75f3df9",
   "metadata": {},
   "source": [
    "### Oefening\n",
    "\n",
    "* Maak een klasse Persoon aan, die minstens een naam en leeftijd en adres heeft.\n",
    "* Maak een klasse Student aan die hiervan over erft die ook nog een dictionary bijhoudt met welke scores de student had voor welk vak. \n",
    "* Maak functies in deze klassen aan om scores toe te voegen, te tellen voor hoeveel vakken de student erdoor is en zijn gemiddelde te berekenen\n",
    "* Maak een aparte functie aan die een lijst studenten als argument meekrijgt en bepaalt hoeveel studenten er door zijn.\n",
    "* Maak een aparte functie aan die een lijst studenten als argument meekrijgt en bepaalt voor elk vak hoeveel studenten er door zijn."
   ]
  },
  {
   "cell_type": "code",
   "execution_count": 4,
   "id": "1233e873",
   "metadata": {},
   "outputs": [
    {
     "name": "stdout",
     "output_type": "stream",
     "text": [
      "John Doe 19 Gent\n"
     ]
    }
   ],
   "source": [
    "# Oefening 1: Persoon\n",
    "\n",
    "class Persoon:    \n",
    "    def __init__(self, naam, leeftijd, adres):\n",
    "        self.naam = naam\n",
    "        self.leeftijd = leeftijd\n",
    "        self.adres = adres\n",
    "        \n",
    "p = Persoon(\"John Doe\", 19, \"Gent\")\n",
    "print(p.naam, p.leeftijd, p.adres)"
   ]
  },
  {
   "cell_type": "code",
   "execution_count": 20,
   "id": "ade076df",
   "metadata": {},
   "outputs": [
    {
     "name": "stdout",
     "output_type": "stream",
     "text": [
      "John Doe 19 Gent\n",
      "{'Data Science': 15, 'Big Data': 12, 'Machine Learning': 8}\n"
     ]
    }
   ],
   "source": [
    "# Oefening 2: Student\n",
    "\n",
    "class Student(Persoon):\n",
    "    \n",
    "    def __init__(self, naam, leeftijd, adres):\n",
    "        super().__init__(naam, leeftijd, adres)\n",
    "        self.scores = {}\n",
    "    \n",
    "    # extra voor oefening 3\n",
    "    def add_score(self, vak, punten):\n",
    "        self.scores[vak] = punten\n",
    "    \n",
    "    def aantal_vakken_geslaagd(self):\n",
    "        aantal = 0\n",
    "        for i in self.scores:\n",
    "            if self.scores[i] >=10:\n",
    "                aantal = aantal + 1\n",
    "                \n",
    "        return aantal\n",
    "    \n",
    "    def bereken_gemiddelde(self):\n",
    "        if len(self.scores) == 0:\n",
    "            return 0\n",
    "        \n",
    "        gemiddelde = 0\n",
    "        for i in self.scores:\n",
    "            gemiddelde = gemiddelde + self.scores[i]\n",
    "                \n",
    "        return gemiddelde / len(self.scores)\n",
    "        \n",
    "s = Student(\"John Doe\", 19, \"Gent\")\n",
    "print(s.naam, s.leeftijd, s.adres)\n",
    "\n",
    "# extra voor oefening 3\n",
    "s.add_score(\"Data Science\", 15)\n",
    "s.add_score(\"Big Data\", 12)\n",
    "s.add_score(\"Machine Learning\", 8)\n",
    "\n",
    "print(s.naam, s.aantal_vakken_geslaagd())\n",
    "print(s.naam, s.bereken_gemiddelde())\n",
    "print(s.scores)"
   ]
  },
  {
   "cell_type": "code",
   "execution_count": 18,
   "id": "56200557",
   "metadata": {},
   "outputs": [
    {
     "data": {
      "text/plain": [
       "2"
      ]
     },
     "execution_count": 18,
     "metadata": {},
     "output_type": "execute_result"
    }
   ],
   "source": [
    "# Oefening 4: Hoeveel studenten geslaagd voor een vak\n",
    "def aantal_studenten_geslaagd(studentenlijst, vak):\n",
    "    aantal = 0\n",
    "    for student in studentenlijst:\n",
    "        if vak in student.scores:\n",
    "            if student.scores[vak] >= 10:\n",
    "                aantal += 1\n",
    "    \n",
    "    return aantal\n",
    "\n",
    "s = Student(\"John Doe\", 19, \"Gent\")\n",
    "s.add_score(\"Data Science\", 15)\n",
    "s.add_score(\"Big Data\", 12)\n",
    "s.add_score(\"Machine Learning\", 8)\n",
    "\n",
    "studentenlijst = [s]\n",
    "\n",
    "s = Student(\"Jane Doe\", 20, \"Leuven\")\n",
    "s.add_score(\"Data Science\", 9)\n",
    "s.add_score(\"Big Data\", 5)\n",
    "s.add_score(\"Machine Learning\", 13)\n",
    "\n",
    "studentenlijst.append(s)\n",
    "\n",
    "s = Student(\"John Smith\", 30, \"Antwerpen\")\n",
    "s.add_score(\"Data Science\", 19)\n",
    "s.add_score(\"Big Data\", 15)\n",
    "s.add_score(\"Machine Learning\", 0)\n",
    "\n",
    "studentenlijst.append(s)\n",
    "\n",
    "aantal_studenten_geslaagd(studentenlijst, \"Data Science\")"
   ]
  },
  {
   "cell_type": "code",
   "execution_count": 19,
   "id": "17116780",
   "metadata": {},
   "outputs": [
    {
     "data": {
      "text/plain": [
       "{'Data Science': 2, 'Big Data': 2, 'Machine Learning': 1}"
      ]
     },
     "execution_count": 19,
     "metadata": {},
     "output_type": "execute_result"
    }
   ],
   "source": [
    "# Oefening 5: Hoeveel studenten geslaagd voor elk vak\n",
    "def aantal_geslaagd_per_vak(studentenlijst):\n",
    "    vakken = {}\n",
    "    \n",
    "    # zoek alle vakken\n",
    "    for student in studentenlijst:\n",
    "        for vak in student.scores:\n",
    "            if vak not in vakken:\n",
    "                vakken[vak] = 0\n",
    "                \n",
    "    for vak in vakken:\n",
    "        vakken[vak] = aantal_studenten_geslaagd(studentenlijst, vak)\n",
    "        \n",
    "    return vakken\n",
    "\n",
    "aantal_geslaagd_per_vak(studentenlijst)\n",
    "    "
   ]
  },
  {
   "cell_type": "markdown",
   "id": "0fcfb3c7",
   "metadata": {
    "slideshow": {
     "slide_type": "slide"
    }
   },
   "source": [
    "## Numpy Intro\n",
    "\n",
    "De numpy libary of package is de kern van veel andere wiskundige rekentools for datamanagement of machine learning in python.\n",
    "Het biedt onder andere een hoge performantie om te werken met rijen van meerdere dimensies en een reeks tools voor bewerkingen te doen met en op deze rijen.\n",
    "* Een 1-dimensionale rij is een een normale rij\n",
    "* Een 2-dimensionale rij is een matrix\n",
    "* Een 3-dimensionale rij is bijvoorbeeld een RGB-figuur (derde dimensie bestaat uit drie elementen)\n",
    "\n",
    "De standaard manier om deze package te gebruiken is door bovenaan je file de package te importeren met het commando:"
   ]
  },
  {
   "cell_type": "code",
   "execution_count": 2,
   "id": "345f8618",
   "metadata": {},
   "outputs": [],
   "source": [
    "import numpy as np"
   ]
  },
  {
   "cell_type": "code",
   "execution_count": 3,
   "id": "92f16d93",
   "metadata": {},
   "outputs": [
    {
     "name": "stdout",
     "output_type": "stream",
     "text": [
      "[[0 1]\n",
      " [2 3]\n",
      " [4 5]\n",
      " [6 7]\n",
      " [8 9]]\n",
      "[[ 0  2]\n",
      " [ 4  6]\n",
      " [ 8 10]\n",
      " [12 14]\n",
      " [16 18]]\n",
      "[[ 0  1]\n",
      " [ 4  9]\n",
      " [16 25]\n",
      " [36 49]\n",
      " [64 81]]\n",
      "[[0 1]\n",
      " [2 3]\n",
      " [4 5]\n",
      " [6 7]\n",
      " [8 9]]\n",
      "[[-1  1]\n",
      " [ 2  3]\n",
      " [ 4  5]\n",
      " [ 6  7]\n",
      " [ 8  9]] [[-1  1]\n",
      " [ 2  3]\n",
      " [ 4  5]\n",
      " [ 6  7]\n",
      " [ 8  9]]\n",
      "[[1 3 6 3 0]\n",
      " [7 3 4 2 8]\n",
      " [1 9 0 6 9]\n",
      " [5 8 4 5 0]\n",
      " [4 1 1 7 4]\n",
      " [8 1 6 0 9]\n",
      " [3 7 3 8 2]\n",
      " [5 9 6 5 4]\n",
      " [0 3 8 5 8]\n",
      " [0 7 5 7 5]]\n"
     ]
    },
    {
     "data": {
      "text/plain": [
       "array([[0, 1, 0, 0, 0],\n",
       "       [0, 1, 1, 2, 0],\n",
       "       [1, 3, 3, 3, 2],\n",
       "       [1, 3, 4, 5, 4],\n",
       "       [3, 3, 4, 5, 4],\n",
       "       [4, 7, 5, 5, 5],\n",
       "       [5, 7, 6, 6, 8],\n",
       "       [5, 8, 6, 7, 8],\n",
       "       [7, 9, 6, 7, 9],\n",
       "       [8, 9, 8, 8, 9]])"
      ]
     },
     "execution_count": 3,
     "metadata": {},
     "output_type": "execute_result"
    }
   ],
   "source": [
    "# Aanmaken arrays\n",
    "np.array([0, 1, 2, 3, 4])\n",
    "np.array([[0, 1, 2], [3, 4,5]])\n",
    "np.ones((10,5))\n",
    "np.zeros((10,5))\n",
    "np.eye(10)\n",
    "\n",
    "# Bestuderen van de matrices\n",
    "m = np.arange(10).reshape((5,2))\n",
    "m[1::2]\n",
    "print(m)\n",
    "\n",
    "# Bewerkingen met arrays\n",
    "print(m+m)\n",
    "print(m*m)\n",
    "m**2\n",
    "m-0.5*m\n",
    "\n",
    "# Vergelijken van rijen\n",
    "m[m > 5]\n",
    "\n",
    "# Aggregate functies\n",
    "np.sum(m)\n",
    "np.mean(m)\n",
    "np.median(m)\n",
    "\n",
    "# Copy arrays\n",
    "m2 = m\n",
    "print(m)\n",
    "m2[0,0]=-1\n",
    "print(m, m2)\n",
    "\n",
    "m.copy()\n",
    "\n",
    "# Sort\n",
    "np.random.random((10,5))\n",
    "rnd = np.random.randint(10, size=(10,5))\n",
    "print(rnd)\n",
    "np.sort(rnd, axis=0)\n",
    "\n",
    "# Indexing\n",
    "\n",
    "# Dimensies array manipuleren\n"
   ]
  },
  {
   "cell_type": "markdown",
   "id": "62958045",
   "metadata": {},
   "source": [
    "Maak nu de volgende oefeningen voor Numpy\n",
    "* Maak 2 vierkante matrices met random waarden tussen 0 en 10. De ene is een 10x5 matrix, de andere is 5x10.\n",
    "* Schrijf een functie die controleert of de dimensies van de matrices voldoen aan de voorwaarden voor matrixVermenigvuldiging\n",
    "* Bereken de vermenigvuldiging van de matrix\n",
    "* Toon de resultaten op alle even rijen\n",
    "* Bereken de som van elke kolom\n",
    "* Bereken het gemiddelde van de matrix\n",
    "* Verander het type van de matrix naar een integer-type\n",
    "* Toon alle rijen waar de 4e kolom een even getal bevat\n",
    "* Wijzig de vorm van de matrix van een 10x10 naar een 5x20\n",
    "* Bereken de getransponeerde matrix\n",
    "* Bereken de vierkantswortel van elk element in deze matrix"
   ]
  },
  {
   "cell_type": "code",
   "execution_count": null,
   "id": "2dd3d02c",
   "metadata": {},
   "outputs": [],
   "source": []
  }
 ],
 "metadata": {
  "celltoolbar": "Slideshow",
  "kernelspec": {
   "display_name": "Python 3.10.5 64-bit",
   "language": "python",
   "name": "python3"
  },
  "language_info": {
   "codemirror_mode": {
    "name": "ipython",
    "version": 3
   },
   "file_extension": ".py",
   "mimetype": "text/x-python",
   "name": "python",
   "nbconvert_exporter": "python",
   "pygments_lexer": "ipython3",
   "version": "3.10.5"
  },
  "vscode": {
   "interpreter": {
    "hash": "d5e8e3a19af5ceb2434683dff87da6345c3b29f7eb0a8a138558c07d014a01cc"
   }
  }
 },
 "nbformat": 4,
 "nbformat_minor": 5
}
