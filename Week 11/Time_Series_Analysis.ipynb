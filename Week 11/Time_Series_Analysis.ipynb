{
 "cells": [
  {
   "cell_type": "markdown",
   "id": "3f8b868a",
   "metadata": {},
   "source": [
    "# Time series analysis\n",
    "\n",
    "In de gebruikte datasets tot nu toe is er verondersteld dat er geen correlatie is tussen de verschillende datapunten.\n",
    "Dit is echter vaak niet het geval.\n",
    "Bijvoorbeeld bij het voorspellen van beurskoersen of elektriciteitsverbruik.\n",
    "In deze situaties zijn de datapunten geordend op basis van de tijd, dit wordt ook een tijdreeks of time-series genoemd, en zijn voorspelling sterk afhankelijk van de meest recente datapunten.\n",
    "Meer informatie over time series analysis kan je ook [hier](https://towardsdatascience.com/time-series-analysis-using-pandas-in-python-f726d87a97d8) en [hier](https://towardsdatascience.com/time-series-modeling-using-scikit-pandas-and-numpy-682e3b8db8d1) vinden.\n",
    "\n",
    "Waarom is het nu belangrijk om extra aandacht te besteden aan tijdreeksen?\n",
    "Hoe zou de toekomst voorspeld kunnen worden van de volgende tijdreeks?\n",
    "Een eenvoudig idee zou gewoon zijn om de tijdreeks met 1 dag te verschuiven."
   ]
  },
  {
   "cell_type": "code",
   "execution_count": null,
   "id": "4d63ffc0",
   "metadata": {},
   "outputs": [],
   "source": [
    "import pandas as pd\n",
    "import matplotlib.pyplot as plt\n",
    "import seaborn as sns\n",
    "sns.set(rc={'figure.figsize':(11, 4)})"
   ]
  },
  {
   "cell_type": "code",
   "execution_count": null,
   "id": "012e0689",
   "metadata": {},
   "outputs": [],
   "source": [
    "url='https://raw.githubusercontent.com/jenfly/opsd/master/opsd_germany_daily.csv'\n",
    "data = pd.read_csv(url, index_col=0, parse_dates=True)\n",
    "cols_plot = ['Consumption', 'Solar', 'Wind']\n",
    "axes = data[cols_plot].plot(marker='.', alpha=0.5, linestyle='None', figsize=(11, 9), subplots=True)\n",
    "for ax in axes:\n",
    "    ax.set_ylabel('Daily Totals (GWh)')"
   ]
  },
  {
   "cell_type": "code",
   "execution_count": null,
   "id": "2c77cbf4",
   "metadata": {},
   "outputs": [],
   "source": [
    "display(data.tail())\n",
    "data.index"
   ]
  },
  {
   "cell_type": "markdown",
   "id": "f94a7e01",
   "metadata": {},
   "source": [
    "Bij het bestuderen valt het op dat de frequentie waarin de data opgenomen is duidelijk 1 rij per dag is.\n",
    "Deze frequentie is echter niet gezet in de index (freq = None).\n",
    "Dit kan gecorrigeerd worden als volgt"
   ]
  },
  {
   "cell_type": "code",
   "execution_count": null,
   "id": "613d5ddf",
   "metadata": {},
   "outputs": [],
   "source": [
    "data = data.asfreq('D', method = 'ffill')"
   ]
  },
  {
   "cell_type": "markdown",
   "id": "5c91e487",
   "metadata": {},
   "source": [
    "Andere veel gebruikte frequenties die gebruikt kunnen worden zijn\n",
    "* \"H\": per uur\n",
    "* \"D\": per dag\n",
    "* \"B\": per werkdag\n",
    "* \"W\": per week\n",
    "* \"M\": per maand\n",
    "* \"Q\": per kwartaal\n",
    "* \"Y\": per jaar\n",
    "\n",
    "De methode die hier gebruikt is, is forward fill.\n",
    "Dit betekend dat als een rij Nan is, dat dan de waarde van de vorige rij gebruikt wordt.\n",
    "Hiermee worden gaten in de dataset opgevuld.\n",
    "In tijdreeksen is het namelijk niet aangewezen op vast waarden zoals het gemiddelde of constanten te nemen omdat de waarden gecorreleerd zijn met de tijd. \n",
    "\n",
    "### Resampling\n",
    "\n",
    "Doordat de index en de frequentie van de tijdreeks correct ingesteld is, is het eenvoudig om de tijdreeks op andere tijdsschalen te bekijken.\n",
    "Dit wordt ook resampling genoemd en kan als volgt gedaan worden waar er bijvoorbeeld het gemiddelde van de hele week of maximum van de maand gekozen kan worden."
   ]
  },
  {
   "cell_type": "code",
   "execution_count": null,
   "id": "188c37f3",
   "metadata": {},
   "outputs": [],
   "source": []
  },
  {
   "cell_type": "code",
   "execution_count": null,
   "id": "3e3e0f6a",
   "metadata": {},
   "outputs": [],
   "source": []
  },
  {
   "cell_type": "markdown",
   "id": "82086ca2",
   "metadata": {},
   "source": [
    "### Rolling Windows\n",
    "\n",
    "Een nadeel van bovenstaande resampling methoden is dat het aantal datapunten sterk gereduceerd wordt.\n",
    "Bij resampling werden de datapunten verdeeld in niet-overlappende groepen of bins.\n",
    "Bij rolling windows definieren we een groep of bin voor elk datapunt.\n",
    "De bins hierbij mogen wel overlappen.\n",
    "Dit kan bijvoorbeeld gebruikt worden om de gegevens uit te middelen of om de trend van de data te bestuderen."
   ]
  },
  {
   "cell_type": "code",
   "execution_count": null,
   "id": "7c6819e5",
   "metadata": {},
   "outputs": [],
   "source": []
  },
  {
   "cell_type": "code",
   "execution_count": null,
   "id": "b12a9ef1",
   "metadata": {
    "scrolled": true
   },
   "outputs": [],
   "source": []
  },
  {
   "cell_type": "markdown",
   "id": "84bd5d77",
   "metadata": {},
   "source": [
    "### Detrending\n",
    "\n",
    "In bovenstaande figuur is het duidelijk dat de algemene elektriciteits consumptie redelijk stabiel is met twee dippen in 2009 en 2013.\n",
    "Voor de trainingstijd en performantie van het model is het vaak aan te raden om de trend in een tijdreeks te verwijderen. \n",
    "Het verwijderen van de trendlijn zorgt ervoor dat de tijdreeks stationary wordt.\n",
    "Dat wil zeggen dat de statistische eigenschappen zoals het gemiddelde en variantie constant blijft door de tijd.\n",
    "\n",
    "De methode om dit te doen wordt differencing genoemd. \n",
    "Hierbij wordt er een nieuwe tijdreeks berekend die het verschil weergeeft tussen tijdstip t en t-1.\n",
    "De formule voor dit te doen is:\n",
    "\n",
    "$x'(t) = x(t) - x(t-1)$"
   ]
  },
  {
   "cell_type": "code",
   "execution_count": null,
   "id": "63603ff2",
   "metadata": {},
   "outputs": [],
   "source": []
  },
  {
   "cell_type": "markdown",
   "id": "e26db5f5",
   "metadata": {},
   "source": [
    "In sommige situaties kan het mogelijk zijn dat het eerste order verschil er niet in slaagt om de trendlijn te verwijderen.\n",
    "Een oplossing hiervoor is om gebruik te maken van het tweede orde verschil wat kan berekend worden met onderstaande formule\n",
    "\n",
    "$x'(t) = x(t) - 2* x(t-1) + x(t-2)$\n",
    "\n",
    "### Seasonality of periodicity\n",
    "\n",
    "Tijdseries die gebaseerd zijn op het menselijk leven (zoals elektriciteitsconsumptie of de seizoenen) gaan zichzelf vaak herhalen met bepaalde perioden (bvb elk jaar, week, dag).\n",
    "In bovenstaande figuren viel het al reeds op dat de zowel een jaarlijkse als een wekelijkse interval heeft dat zich herhaalt.\n",
    "\n",
    "### Autocorrelation\n",
    "\n",
    "Dit is een techniek om periodicity te gaan analyseren door de correlatie van de tijdreeks met een verschoven tijdreeks te gaan tekenen voor verschillende tijdsverschuivingen.\n",
    "\n",
    "Intuitief wil dit het volgende zeggen: je verschuift de tijdseries met x aantal dagen/weken/maanden en berekent het verschil tussen de twee tijdseries.\n",
    "Indien de tijdreeks een periodiciteit heeft van x dagen/weken/maanden dan zal dit verschil heel klein zijn of de correlatie heel hoog.\n",
    "Door dit voor verschillende verschuivingen te doen kunnen de verschillende periodiciteiten gedetecteerd worden.\n",
    "\n",
    "De resulterende plot ziet er als volgt uit:"
   ]
  },
  {
   "cell_type": "code",
   "execution_count": null,
   "id": "95d28eb2",
   "metadata": {},
   "outputs": [],
   "source": []
  },
  {
   "cell_type": "markdown",
   "id": "9a9063de",
   "metadata": {},
   "source": [
    "Hoe moet deze figuur geinterpreteerd worden?\n",
    "* de x-as stelt de verschuiving van de data voor\n",
    "* de y-as geeft de correlatie tussen de verschoven tijdreeks en de originele weer. Wanneer dit een piek vertoond, dan kan je stellen dat de tijdreeks zich na zoveel dagen herhaalt.\n",
    "* De horizontale lijnen geven een indicatie van welke pieken statistisch relevant zijn. Elke piek die boven de gestreepte lijnen komt geeft aanlijding tot een herhaling van de tijdreeks.\n",
    "\n",
    "Bovenstaande auto-correlation plot werd getekend voor de originele data.\n",
    "We kunnen dit ook eens doen voor de tijdreeks waar de trend in de data verwijderd is. \n",
    "In deze plot is de periodiciteit sterker zichtbaar wat het belang van detrending weergeeft."
   ]
  },
  {
   "cell_type": "code",
   "execution_count": null,
   "id": "aea140c5",
   "metadata": {},
   "outputs": [],
   "source": []
  },
  {
   "cell_type": "markdown",
   "id": "2daf79ce",
   "metadata": {},
   "source": [
    "## Modelleren van tijdreeksen\n",
    "\n",
    "Er zijn een aantal geavanceerde packages beschikbaar voor het werken met tijdreeksen zoals ARIMA of Prophet (van Facebook).\n",
    "Het is echter perfect mogelijk om de verschillende reeds geziene ML-technieken toe te passen op tijdreeksen.\n",
    "Er zijn wel een paar belangrijke aandachtspunten om ervoor te zorgen dat je de orde van de tijdspunten respecteert.\n",
    "Om dit aan te tonen gaan we proberen om het totale verbruik te voorspellen.\n",
    "De dataset die beschikbaar is bevat data van 2006 tot en met 2017.\n",
    "We kunnen bvb de eerste 11 jaar gebruiken voor het model te trainen en het laatste jaar te gebruiken als testdata om de performantie van het model te bepalen."
   ]
  },
  {
   "cell_type": "code",
   "execution_count": null,
   "id": "1a41a82e",
   "metadata": {},
   "outputs": [],
   "source": []
  },
  {
   "cell_type": "markdown",
   "id": "759efb0b",
   "metadata": {},
   "source": [
    "## Poging 1\n",
    "\n",
    "Een eerste probleem bij het voorspellen van een tijdreeks is dat er een sterke mogelijkheid is dat het model steeds de laatste geziene waarde leert voorspellen.\n",
    "Dit komt omdat er typisch bij tijdreeksen een grote kans is dat het verschil op 1 dag klein is.\n",
    "Zo is de eenvoudigste manier om het weer van morgen te voorspellen te zeggen dat het hetzelfde gaat zijn als vandaag.\n",
    "\n",
    "Dit kan je al wat zien op onderstaande figuur waar de blauwe lijn precies een beetje voorloopt op de orange lijn (namelijk 1 dag)\n",
    "Het verschil in grootteordes is hier niet zo belangrijk. Dit komt vooral doordat er doorheen de jaren een stijgend gebruik is wat hier ook niet correct mee gemodelleerd kan worden."
   ]
  },
  {
   "cell_type": "code",
   "execution_count": null,
   "id": "bbe0a939",
   "metadata": {},
   "outputs": [],
   "source": []
  },
  {
   "cell_type": "code",
   "execution_count": null,
   "id": "454351a9",
   "metadata": {},
   "outputs": [],
   "source": []
  },
  {
   "cell_type": "markdown",
   "id": "92e306d4",
   "metadata": {},
   "source": [
    "Om bovenstaande probleem op te lossen kan het handig zijn om eerder te werken met de verschillen tussen opeenvolgende dagen dan met de echte waarden.\n",
    "De simpelste features die gebruikt kunnen worden om het verbruik van vandaag te voorspellen zijn het verbruik van gisteren en het verschil van het verbruik van gisteren en eergisteren.\n",
    "Het dataframe met deze data kan als volgt bepaald worden."
   ]
  },
  {
   "cell_type": "code",
   "execution_count": null,
   "id": "8bb8313f",
   "metadata": {},
   "outputs": [],
   "source": []
  },
  {
   "cell_type": "markdown",
   "id": "b21539be",
   "metadata": {},
   "source": [
    "Merk op dat de eerste twee dagen verdwenen zijn.\n",
    "Dit komt omdat er twee dagen nodig zijn om de waarden van de twee features te bepalen.\n",
    "Aangezien dit niet kan voor de eerste twee dagen resulteert dit in NaN waarden waardoor de rijen wegvallen.\n",
    "\n",
    "Nu kunnen we de beschikbare data verdelen in test en trainingsdata."
   ]
  },
  {
   "cell_type": "code",
   "execution_count": null,
   "id": "aba906ba",
   "metadata": {},
   "outputs": [],
   "source": []
  },
  {
   "cell_type": "markdown",
   "id": "c66981b2",
   "metadata": {},
   "source": [
    "#### Cross validation\n",
    "\n",
    "Bij het werken met tijdreeksen kan er niet gebruik gemaakt worden van de standaard cross-validation technieken omdat deze de data willekeurig selecteert.\n",
    "Hierdoor wordt de volgorde van de data niet gerespecteerd wat voor problemen zorgt.\n",
    "Een betere strategie voor cross-validation te gebruiken dan de standaard K-fold is de Forward Chaining techniek.\n",
    "In het geval van 3 folds in een dataset van 4 jaar zien de train en validatie sets er uit als volgt:\n",
    "* fold 1: training [jaar 1], validation [jaar 2]\n",
    "* fold 2: training [jaar 1 en jaar 2], validation [jaar 3]\n",
    "* fold 3: training [jaar 1 tot jaar 3], validation [jaar 4]\n",
    "\n",
    "Om deze folds te bepalen van de datasets bied sklearn de TimeSeriesSplit klasse aan. Hieronder berekenen we 10 folds (omdat de trainingsdata uit 11 jaar bestaat)"
   ]
  },
  {
   "cell_type": "code",
   "execution_count": null,
   "id": "db42a2a2",
   "metadata": {},
   "outputs": [],
   "source": []
  },
  {
   "cell_type": "markdown",
   "id": "a44a2b6e",
   "metadata": {},
   "source": [
    "#### Modellen trainen\n",
    "\n",
    "Nu is de data beschikbaar om de verschillende ML-learning technieken op de data los te laten."
   ]
  },
  {
   "cell_type": "code",
   "execution_count": null,
   "id": "31782de0",
   "metadata": {},
   "outputs": [],
   "source": []
  },
  {
   "cell_type": "markdown",
   "id": "475800d8",
   "metadata": {},
   "source": [
    "Hieronder gaan we verder enkel gebruik maken van de Random Forest techniek.\n",
    "Voor deze techniek gaan we met een grid search op zoek naar het model dat het beste het verbruik kan voorspellen."
   ]
  },
  {
   "cell_type": "code",
   "execution_count": null,
   "id": "1f02b4a3",
   "metadata": {},
   "outputs": [],
   "source": []
  },
  {
   "cell_type": "code",
   "execution_count": null,
   "id": "b27982d3",
   "metadata": {},
   "outputs": [],
   "source": []
  },
  {
   "cell_type": "markdown",
   "id": "49028d2e",
   "metadata": {},
   "source": [
    "## Poging 2\n",
    "\n",
    "Tot nu toe is enkel het verbruik van de vorige dag in rekening gebracht.\n",
    "We kunnen echter ook verder terug gaan het verleden, bvb tot 2 dagen.\n",
    "Dit geeft het volgende resultaat."
   ]
  },
  {
   "cell_type": "code",
   "execution_count": null,
   "id": "769619a4",
   "metadata": {},
   "outputs": [],
   "source": []
  },
  {
   "cell_type": "code",
   "execution_count": null,
   "id": "a4f49730",
   "metadata": {},
   "outputs": [],
   "source": []
  },
  {
   "cell_type": "code",
   "execution_count": null,
   "id": "e6cc5a68",
   "metadata": {},
   "outputs": [],
   "source": []
  },
  {
   "cell_type": "code",
   "execution_count": null,
   "id": "db15e5fc",
   "metadata": {},
   "outputs": [],
   "source": []
  },
  {
   "cell_type": "markdown",
   "id": "cb2298da",
   "metadata": {},
   "source": [
    "## Poging 3\n",
    "\n",
    "In de vorige twee pogingen is enkel gebruik gemaakt van informatie over het verbruik.\n",
    "Het is ook mogelijk om de productie van zonnepanelen toe te voegen aan de dataset.\n",
    "Dit resulteert in het volgende model."
   ]
  },
  {
   "cell_type": "code",
   "execution_count": null,
   "id": "e9c75cd5",
   "metadata": {},
   "outputs": [],
   "source": []
  },
  {
   "cell_type": "code",
   "execution_count": null,
   "id": "358745fa",
   "metadata": {},
   "outputs": [],
   "source": []
  },
  {
   "cell_type": "code",
   "execution_count": null,
   "id": "11b5349a",
   "metadata": {},
   "outputs": [],
   "source": []
  },
  {
   "cell_type": "markdown",
   "id": "3622f8ff",
   "metadata": {},
   "source": [
    "# Poging 4\n",
    "\n",
    "In het begin is er vastgesteld geweest dat de periodiciteit van de dataset een week is of 7 dagen.\n",
    "Een ander idee voor een extra feature is om minstens het verbruik van van een week geleden toe te voegen."
   ]
  },
  {
   "cell_type": "code",
   "execution_count": null,
   "id": "208db365",
   "metadata": {},
   "outputs": [],
   "source": []
  },
  {
   "cell_type": "code",
   "execution_count": null,
   "id": "f630dd5c",
   "metadata": {},
   "outputs": [],
   "source": []
  },
  {
   "cell_type": "code",
   "execution_count": null,
   "id": "085f29e7",
   "metadata": {},
   "outputs": [],
   "source": []
  },
  {
   "cell_type": "markdown",
   "id": "043256b4",
   "metadata": {},
   "source": [
    "## Belang van de features\n",
    "\n",
    "Welke feature in de dataset levert nu het meest informatie op om het target te voorspellen?\n",
    "Dit kan bepaald worden door het opstellen van een variable important plot.\n",
    "In deze plot is het duidelijk te zien dat de informatie van de week ervoor veel belangrijker is om het verbruik te voorspellen dat de waarde van de dag ervoor."
   ]
  },
  {
   "cell_type": "code",
   "execution_count": null,
   "id": "0ae0385b",
   "metadata": {},
   "outputs": [],
   "source": []
  },
  {
   "cell_type": "code",
   "execution_count": null,
   "id": "0961e627",
   "metadata": {},
   "outputs": [],
   "source": []
  }
 ],
 "metadata": {
  "kernelspec": {
   "display_name": "Python 3.10.5 64-bit",
   "language": "python",
   "name": "python3"
  },
  "language_info": {
   "codemirror_mode": {
    "name": "ipython",
    "version": 3
   },
   "file_extension": ".py",
   "mimetype": "text/x-python",
   "name": "python",
   "nbconvert_exporter": "python",
   "pygments_lexer": "ipython3",
   "version": "3.10.5"
  },
  "vscode": {
   "interpreter": {
    "hash": "d5e8e3a19af5ceb2434683dff87da6345c3b29f7eb0a8a138558c07d014a01cc"
   }
  }
 },
 "nbformat": 4,
 "nbformat_minor": 5
}
