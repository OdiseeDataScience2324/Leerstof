{
 "cells": [
  {
   "cell_type": "markdown",
   "id": "d8266688",
   "metadata": {},
   "source": [
    "# Classificatie - Logistic Regression\n",
    "\n",
    "## Wat is classificatie?\n",
    "\n",
    "Bij regressie wordt er getracht een manier te zoeken om op basis van een aantal inputs/features een continue waarde te voorspellen.\n",
    "Bij classificatie omvat machine learning technieken waar een model getrained wordt dat op basis van de input bepaalt in welke categorieen je input thuishoort.\n",
    "Een model dat een categorie toekent aan een bepaalde set input-data kan ook een **classifier** genoemd worden.\n",
    "Het classificatieprobleem hoort nog steeds thuis onder **supervised learning** omdat er nog steeds gebruikt gemaakt wordt van een output/label/target om het model te trainen.\n",
    "\n",
    "Enkele voorbeelden van classificatieproblemen zijn\n",
    "* Spam detectie\n",
    "* Medische diagnoses\n",
    "* Kwaliteitscontrole\n",
    "* Geschreven tekst inlezen\n",
    "* ...\n",
    "\n",
    "\n",
    "## Types van classifiers\n",
    "\n",
    "Op basis van hoe de data gelabeled wordt kunnen we drie types van classifiers onderscheiden:\n",
    "* Binaire classifier: Er zijn twee verschillende klasses (goedgekeurd of niet, kwaadaardig vs goedaardig, ...). Lijkt simplistisch maar komt heel veel voor.\n",
    "* Multiclass classifier: Er zijn een willekeurig aantal klassen en er kan er maar 1 toegekend worden. Een voorbeeld hiervan is gezichtsherkenning (elk gezicht kan maar bij 1 persoon horen).\n",
    "* Multilabel classifier: Er zijn een willekeurig aantal klassen en 1 input kan tot meerdere klassen behoren, bijvoorbeeld op een foto kan je meerdere zaken herkennen zoals een boom, wolken, gras, struiken, dieren, ...\n",
    "\n",
    "## Kan hier ook lineaire regressie gebruikt worden?\n",
    "\n",
    "Een eerste mogelijkheid om classificatie uit te voeren is om elke klasse een apart getal te geven en dan lineaire regressie uit te voeren.\n",
    "Hierdoor bekomen we een getal en dan kunnen we kijken naar welk cijfer/klasse er het dichts bij licht.\n",
    "De problemen met deze aanpak kunnen het makkelijkst worden toegelicht doorm iddel van een voorbeeld.\n",
    "Doorheen deze notebook gaat er grotendeels gewerkt worden met [deze dataset](https://www.kaggle.com/elakiricoder/gender-classification-dataset) die 7 zaken gemeten heeft in het gezicht van zowel mannen als vrouwen.\n",
    "Deze dataset gaan we gebruiken om op basis van deze metingen te gaan bepalen of de bijhorende persoon een vrouw of man is."
   ]
  },
  {
   "cell_type": "code",
   "execution_count": 1,
   "id": "4ac429f0",
   "metadata": {},
   "outputs": [],
   "source": [
    "# imports\n",
    "import matplotlib.pyplot as plt\n",
    "import pandas as pd\n",
    "import numpy as np\n",
    "import opendatasets as od\n",
    "\n",
    "# graphical\n",
    "from mpl_toolkits.mplot3d import Axes3D\n",
    "from matplotlib import cm\n",
    "from ipywidgets import interact, FloatSlider\n",
    "import matplotlib.animation as animation\n",
    "import seaborn as sns\n",
    "sns.set_style(\"darkgrid\")\n",
    "\n",
    "# sklearn\n",
    "from sklearn.linear_model import LinearRegression\n",
    "from sklearn.metrics import mean_absolute_error\n",
    "from sklearn.metrics import mean_squared_error\n",
    "from sklearn.model_selection import train_test_split\n",
    "from sklearn.preprocessing import StandardScaler\n",
    "from sklearn.preprocessing import PolynomialFeatures\n",
    "\n",
    "from sklearn.multiclass import OneVsOneClassifier\n",
    "from sklearn.multiclass import OneVsRestClassifier\n",
    "\n",
    "%matplotlib inline"
   ]
  },
  {
   "cell_type": "code",
   "execution_count": 4,
   "id": "fa7372ce",
   "metadata": {},
   "outputs": [],
   "source": [
    "# od.download(\"https://www.kaggle.com/joshmcadams/oranges-vs-grapefruit\")"
   ]
  },
  {
   "cell_type": "code",
   "execution_count": 3,
   "id": "fb04d0fa",
   "metadata": {},
   "outputs": [],
   "source": [
    "df = pd.read_csv(\".\\\\oranges-vs-grapefruit\\\\citrus.csv\")"
   ]
  },
  {
   "cell_type": "code",
   "execution_count": 4,
   "id": "acc76994",
   "metadata": {},
   "outputs": [
    {
     "data": {
      "text/html": [
       "<div>\n",
       "<style scoped>\n",
       "    .dataframe tbody tr th:only-of-type {\n",
       "        vertical-align: middle;\n",
       "    }\n",
       "\n",
       "    .dataframe tbody tr th {\n",
       "        vertical-align: top;\n",
       "    }\n",
       "\n",
       "    .dataframe thead th {\n",
       "        text-align: right;\n",
       "    }\n",
       "</style>\n",
       "<table border=\"1\" class=\"dataframe\">\n",
       "  <thead>\n",
       "    <tr style=\"text-align: right;\">\n",
       "      <th></th>\n",
       "      <th>name</th>\n",
       "      <th>diameter</th>\n",
       "      <th>weight</th>\n",
       "      <th>red</th>\n",
       "      <th>green</th>\n",
       "      <th>blue</th>\n",
       "      <th>output</th>\n",
       "    </tr>\n",
       "  </thead>\n",
       "  <tbody>\n",
       "    <tr>\n",
       "      <th>0</th>\n",
       "      <td>orange</td>\n",
       "      <td>2.96</td>\n",
       "      <td>86.76</td>\n",
       "      <td>172</td>\n",
       "      <td>85</td>\n",
       "      <td>2</td>\n",
       "      <td>True</td>\n",
       "    </tr>\n",
       "    <tr>\n",
       "      <th>1</th>\n",
       "      <td>orange</td>\n",
       "      <td>3.91</td>\n",
       "      <td>88.05</td>\n",
       "      <td>166</td>\n",
       "      <td>78</td>\n",
       "      <td>3</td>\n",
       "      <td>True</td>\n",
       "    </tr>\n",
       "    <tr>\n",
       "      <th>2</th>\n",
       "      <td>orange</td>\n",
       "      <td>4.42</td>\n",
       "      <td>95.17</td>\n",
       "      <td>156</td>\n",
       "      <td>81</td>\n",
       "      <td>2</td>\n",
       "      <td>True</td>\n",
       "    </tr>\n",
       "    <tr>\n",
       "      <th>3</th>\n",
       "      <td>orange</td>\n",
       "      <td>4.47</td>\n",
       "      <td>95.60</td>\n",
       "      <td>163</td>\n",
       "      <td>81</td>\n",
       "      <td>4</td>\n",
       "      <td>True</td>\n",
       "    </tr>\n",
       "    <tr>\n",
       "      <th>4</th>\n",
       "      <td>orange</td>\n",
       "      <td>4.48</td>\n",
       "      <td>95.76</td>\n",
       "      <td>161</td>\n",
       "      <td>72</td>\n",
       "      <td>9</td>\n",
       "      <td>True</td>\n",
       "    </tr>\n",
       "    <tr>\n",
       "      <th>...</th>\n",
       "      <td>...</td>\n",
       "      <td>...</td>\n",
       "      <td>...</td>\n",
       "      <td>...</td>\n",
       "      <td>...</td>\n",
       "      <td>...</td>\n",
       "      <td>...</td>\n",
       "    </tr>\n",
       "    <tr>\n",
       "      <th>9995</th>\n",
       "      <td>grapefruit</td>\n",
       "      <td>15.35</td>\n",
       "      <td>253.89</td>\n",
       "      <td>149</td>\n",
       "      <td>77</td>\n",
       "      <td>20</td>\n",
       "      <td>False</td>\n",
       "    </tr>\n",
       "    <tr>\n",
       "      <th>9996</th>\n",
       "      <td>grapefruit</td>\n",
       "      <td>15.41</td>\n",
       "      <td>254.67</td>\n",
       "      <td>148</td>\n",
       "      <td>68</td>\n",
       "      <td>7</td>\n",
       "      <td>False</td>\n",
       "    </tr>\n",
       "    <tr>\n",
       "      <th>9997</th>\n",
       "      <td>grapefruit</td>\n",
       "      <td>15.59</td>\n",
       "      <td>256.50</td>\n",
       "      <td>168</td>\n",
       "      <td>82</td>\n",
       "      <td>20</td>\n",
       "      <td>False</td>\n",
       "    </tr>\n",
       "    <tr>\n",
       "      <th>9998</th>\n",
       "      <td>grapefruit</td>\n",
       "      <td>15.92</td>\n",
       "      <td>260.14</td>\n",
       "      <td>142</td>\n",
       "      <td>72</td>\n",
       "      <td>11</td>\n",
       "      <td>False</td>\n",
       "    </tr>\n",
       "    <tr>\n",
       "      <th>9999</th>\n",
       "      <td>grapefruit</td>\n",
       "      <td>16.45</td>\n",
       "      <td>261.51</td>\n",
       "      <td>152</td>\n",
       "      <td>74</td>\n",
       "      <td>2</td>\n",
       "      <td>False</td>\n",
       "    </tr>\n",
       "  </tbody>\n",
       "</table>\n",
       "<p>10000 rows × 7 columns</p>\n",
       "</div>"
      ],
      "text/plain": [
       "            name  diameter  weight  red  green  blue  output\n",
       "0         orange      2.96   86.76  172     85     2    True\n",
       "1         orange      3.91   88.05  166     78     3    True\n",
       "2         orange      4.42   95.17  156     81     2    True\n",
       "3         orange      4.47   95.60  163     81     4    True\n",
       "4         orange      4.48   95.76  161     72     9    True\n",
       "...          ...       ...     ...  ...    ...   ...     ...\n",
       "9995  grapefruit     15.35  253.89  149     77    20   False\n",
       "9996  grapefruit     15.41  254.67  148     68     7   False\n",
       "9997  grapefruit     15.59  256.50  168     82    20   False\n",
       "9998  grapefruit     15.92  260.14  142     72    11   False\n",
       "9999  grapefruit     16.45  261.51  152     74     2   False\n",
       "\n",
       "[10000 rows x 7 columns]"
      ]
     },
     "execution_count": 4,
     "metadata": {},
     "output_type": "execute_result"
    }
   ],
   "source": [
    "df[\"output\"] = df.name == \"orange\"\n",
    "df"
   ]
  },
  {
   "cell_type": "markdown",
   "id": "abdc0693",
   "metadata": {},
   "source": [
    "Waneer we nu een scatterplot tekenen van een kleine datasample en lineaire regressie zouden laten uitvoeren bekomen we onderstaand resultaat.\n",
    "Voor classificatie zouden we beslissen dat wanneer het minder is dan de helft, dat het dan een orange is en anders pompelmoes."
   ]
  },
  {
   "cell_type": "code",
   "execution_count": 9,
   "id": "913584cc",
   "metadata": {},
   "outputs": [
    {
     "data": {
      "text/plain": [
       "[<matplotlib.lines.Line2D at 0x1360ce92e80>]"
      ]
     },
     "execution_count": 9,
     "metadata": {},
     "output_type": "execute_result"
    },
    {
     "data": {
      "image/png": "[encoded data removed]",
      "text/plain": [
       "<Figure size 432x288 with 1 Axes>"
      ]
     },
     "metadata": {
      "needs_background": "light"
     },
     "output_type": "display_data"
    }
   ],
   "source": [
    "def split(group):\n",
    "    s = group.sort_values(\"weight\")\n",
    "    if group.name == \"orange\":\n",
    "        return s.head()\n",
    "    return s.tail()\n",
    "df_trimmed = df.groupby([\"name\"]).apply(split)\n",
    "\n",
    "model = LinearRegression()\n",
    "model.fit(pd.DataFrame(df_trimmed.diameter), df_trimmed.output)\n",
    "x_test = [4, 16]\n",
    "y_test = model.predict(pd.DataFrame(x_test))\n",
    "\n",
    "sns.scatterplot(x = 'diameter', y ='output', data=df_trimmed, hue='output')\n",
    "plt.plot(x_test, y_test)"
   ]
  },
  {
   "cell_type": "markdown",
   "id": "17820979",
   "metadata": {},
   "source": [
    "Met deze plot zou je kunnen denken dat lineaire regressie kan gebruikt worden.\n",
    "Daarom hebben we eens een andere groep ook geplot en daar zie je dat er toch een aantal problemen zijn met lineaire regressie te gebruiken voor classificatie.\n",
    "* Outliers hebben een grote impact op de trendlijn en dus op de manier dat de classificatie gebeurd\n",
    "* Als de ene klas 0 is en de andere 1, dan kunnen we waarden voorspellen die kleiner zijn dan 0 en groter dan 1. Dit komt niet overeen met kansen dus is het lastiger om te interpreteren. \n",
    "* Als de klassen niet gebalanceerd zijn kan het zijn dat er een grotere bias is voor de ene klassen. Dit wordt ook hieronder. aangetoond.\n",
    "\n",
    "De combinatie van deze problemen zorgt ervoor dat lineaire regressie zelden een goede oplossing is voor classificatieproblemen.\n",
    "Gelukkig bevat het domein van classificatie een hele hoop machine learning technieken die beter bestand zijn tegen deze problemen.\n",
    "In de loop van de cursus gaan we er een aantal van bestuderen, namelijk:\n",
    "* Logistic Regression\n",
    "* SVM\n",
    "* Naive Bayes\n",
    "* Decision Trees\n",
    "* Random Forest"
   ]
  },
  {
   "cell_type": "code",
   "execution_count": 10,
   "id": "b595b787",
   "metadata": {},
   "outputs": [
    {
     "data": {
      "text/plain": [
       "[<matplotlib.lines.Line2D at 0x1360cf01d30>]"
      ]
     },
     "execution_count": 10,
     "metadata": {},
     "output_type": "execute_result"
    },
    {
     "data": {
      "image/png": "[encoded data removed]",
      "text/plain": [
       "<Figure size 432x288 with 1 Axes>"
      ]
     },
     "metadata": {
      "needs_background": "light"
     },
     "output_type": "display_data"
    }
   ],
   "source": [
    "def split_outlier(group):\n",
    "    s = group.sort_values(\"weight\")\n",
    "    if group.name == \"orange\":\n",
    "        return s.head()\n",
    "    return pd.concat([s.tail(1), s[-1000:-995]])\n",
    "df_trimmed = df.groupby([\"name\"]).apply(split_outlier)\n",
    "\n",
    "model = LinearRegression()\n",
    "model.fit(pd.DataFrame(df_trimmed.diameter), df_trimmed.output)\n",
    "x_test = [4, 16]\n",
    "y_test = model.predict(pd.DataFrame(x_test))\n",
    "\n",
    "sns.scatterplot(x = 'diameter', y ='output', data=df_trimmed, hue='output')\n",
    "plt.plot(x_test, y_test)"
   ]
  },
  {
   "cell_type": "code",
   "execution_count": 11,
   "id": "ac877895",
   "metadata": {},
   "outputs": [
    {
     "data": {
      "text/plain": [
       "[<matplotlib.lines.Line2D at 0x1360cf63fd0>]"
      ]
     },
     "execution_count": 11,
     "metadata": {},
     "output_type": "execute_result"
    },
    {
     "data": {
      "image/png": "[encoded data removed]",
      "text/plain": [
       "<Figure size 432x288 with 1 Axes>"
      ]
     },
     "metadata": {
      "needs_background": "light"
     },
     "output_type": "display_data"
    }
   ],
   "source": [
    "def split_inbalanced(group):\n",
    "    s = group.sort_values(\"weight\")\n",
    "    if group.name == \"orange\":\n",
    "        return s.head()\n",
    "    return s.tail(2000)\n",
    "df_trimmed = df.groupby([\"name\"]).apply(split_inbalanced)\n",
    "\n",
    "model = LinearRegression()\n",
    "model.fit(pd.DataFrame(df_trimmed.diameter), df_trimmed.output)\n",
    "x_test = [4, 16]\n",
    "y_test = model.predict(pd.DataFrame(x_test))\n",
    "\n",
    "sns.scatterplot(x = 'diameter', y ='output', data=df_trimmed, hue='output')\n",
    "plt.plot(x_test, y_test)"
   ]
  },
  {
   "cell_type": "markdown",
   "id": "2f73b227",
   "metadata": {},
   "source": [
    "## Evaluatie van classificatie\n",
    "\n",
    "In tegenstelling tot lineaire regressie kunnen we niet de afstand tot de gewenste output gebruiken om verschillende classifiers te gaan evalueren.\n",
    "Een mogelijkheid die kan werken is om te kijken naar het percentage van inputs die correct geklassificieerd zijn.\n",
    "Dit wordt ook de accuraatheid of accuracy genoemd.\n",
    "Enkel deze metriek gebruiken heeft echter problemen bij het classificieren van zeldzame events of niet-gebalanceerde data.\n",
    "Een classifier zou bijvoorbeeld voor iets dat in maar 1 van de 1000 gevallen voorkomt kunnen voorspellen dat het nooit voorkomt maar toch een accuraatheid bekomen van 99,9%.\n",
    "\n",
    "Om dit op te vangen kan de zogenoemde [confusionmatrix](https://towardsdatascience.com/confusion-matrix-for-your-multi-class-machine-learning-model-ff9aa3bf7826) bepaald worden.\n",
    "Hierin wordt bijgehouden voor elke klasse hoeveel voorspellingen er correct waren en hoeveel niet.\n",
    "Op basis van deze matrix kunnen de volgende metrieken berekend worden:\n",
    "* Accuraatheid: algemene correctheid $\\frac{TP+TN}{TP+TN+FP+FN}$\n",
    "* Precisie: Accuraatheid binnen positieve voorspellingen $\\frac{TP}{TP+FP}$\n",
    "* Specificiteit: Accuraatheid binnen negatieve samples $\\frac{TN}{TN+FP}$\n",
    "* Recall: Accuraatheid binnen positieve samples $\\frac{TP}{TP+FN}$\n",
    "* F1-score: Combinatie Precisie en Recall: $2\\frac{Precisie*Recall}{Precisie+Recall} = \\frac{2TP}{2TP+FP+FN}$\n",
    "\n",
    "De [.score](https://scikit-learn.org/stable/modules/generated/sklearn.linear_model.LogisticRegression.html#sklearn.linear_model.LogisticRegression.score) functie van het LogisticRegression model berekent de accuraatheid van het model maar de andere metrieken kunnen een veel nauwkeuriger beeld geven over de correcte werken van het model.\n",
    "\n",
    "![matrix](images/confusionMatrix.png)"
   ]
  },
  {
   "cell_type": "markdown",
   "id": "f4c8209e",
   "metadata": {},
   "source": [
    "## Multi-class classification\n",
    "\n",
    "In het bovenstaande voorbeeld zijn de training examples onderverdeeld in twee klassen.\n",
    "In de praktijk komt het ook vaak voor dat er meerdere klasses mogelijk zijn, zoals meerdere types fruit, meerdere soorten hondenrassen, ...\n",
    "Om dit aan te pakken zijn er twee veelgebruikte technieken: One vs All en One vs One.\n",
    "Meer informatie over hoe de LogisticRegression van sklearn kan gebruikt worden voor multi-class problemen op te lossen vind je [hier](https://scikit-learn.org/stable/modules/generated/sklearn.linear_model.LogisticRegression.html).\n",
    "Dan gaat het specifiek om het multi-class probleem.\n",
    "\n",
    "### One vs All\n",
    "\n",
    "Bij deze techniek maak 1 classifier per klasse die je hebt.\n",
    "Deze classifier bepaalt of een input van die bepaalde klasse is of niet.\n",
    "Met deze techniek worden er dus N classifiers getrained.\n",
    "Het voordeel hiervan is dat er minder classifiers nodig zijn dan in de One-Vs-One-techniek waardoor het sneller te trainen is.\n",
    "Het nadeel echter is dat de techniek gevoeliger is aan niet-gebalanceerde data.\n",
    "Deze techniek wordt ook vaak One-Vs-The-Rest genoemd.\n",
    "\n",
    "Een opmerking bij techniek is dat het mogelijk is dat twee of meerdere classifiers aangeven dat een input tot die klasse hoort.\n",
    "In het geval dat er een dergelijk conflict opduikt wordt de klasse die de hoogste kans aangeeft gekozen. \n",
    "\n",
    "![onevsall](images/oneVsAll.png)\n",
    "\n",
    "### One vs One\n",
    "\n",
    "Bij deze techniek maken we een classifier aan voor elke combinatie van 2 klassen aan. \n",
    "Hierdoor zijn er $\\frac{N(N-1)}{2}$ classifiers nodig wat snel kan oplopen in vergelijking met de voorgaande techniek.\n",
    "Op basis van onderstaand voorbeeld werkt deze techniek als volgt:\n",
    "* Eerst wordt er gekeken of de input van de rode of de blauwe klasse is. \n",
    "* Indien het niet van de rode is, wordt er nog gekeken of het blauw of groen is.\n",
    "* Indien het niet de blauwe klasse is, wordt er nog gekeken of het rood of groen is.\n",
    "\n",
    "Hoewel deze methode een grotere trainingstijd nodig heeft door het toegenomen aantal classifiers zijn er wel een aantal voorbeelden:\n",
    "* Minder gevoelig voor niet gebalanceerde data\n",
    "* Geen wazige gebieden waar meerdere classifiers kunnen voorspellen dat het van die klasse is.\n",
    "\n",
    "![onevsall](images/oneVsOne.png)\n",
    "\n",
    "### Multinomial\n",
    "\n",
    "Sommige van de solvers in logistic regression maken het ook mogelijk om rechtstreeks te werken met meerdere klassen. In deze gevallen kan het \"multi-class\" argument op \"multinomial\" gezet worden. Dit is het standaard gedrag tenzij de solver op \"liblinear\" staat."
   ]
  },
  {
   "cell_type": "code",
   "execution_count": null,
   "id": "1884706c",
   "metadata": {},
   "outputs": [],
   "source": [
    "OneVsOneClassifier()\n",
    "OneVsRestClassifier()"
   ]
  },
  {
   "cell_type": "markdown",
   "id": "1f6ea287",
   "metadata": {},
   "source": [
    "### Multiclass evaluatie\n",
    "\n",
    "De confusion matrix in het geval van meerdere klassen kan uitgebreid worden naar onderstaand voorbeeld voor drie klassen. \n",
    "\n",
    "![matrix](images/confusionMatrixMulti.png)\n",
    "\n",
    "Hier is het niet rechtstreeks zichtbaar wat de True Positive, True Negative, ... waarden zijn.\n",
    "We kunnen deze echter eenvoudig berekenen per klasse. \n",
    "Dan kunnen we de besproken metrieken ook per klasse berekenen zodat we onderstaande resultaten bekomen.\n",
    "\n",
    "![matrix](images/metriekenMulti.png)\n",
    "\n",
    "Met behulp van deze matrix kunnen verschillende modellen vergeleken worden.\n",
    "Echter kan er nog iets verder gegaan worden in het combineren van waarden door een globale F1-score te bepalen.\n",
    "Hier zijn meerdere opties voor, namelijk:\n",
    "* Micro F1: Globale F1 op basis van total TP, FN en FP. Merk op dat door geen onderscheid te maken tussen klassen dat $Micro F1 = Precisie = Recall = Accuraatheid$\n",
    "* Macro F1: (Niet gewogen) Gemiddelde van alle F1-scores per klasse.\n",
    "* Weighted F1: Gewogen gemiddelde van de F1-scores per klasse (gewichten = aantal samples van die klasse)"
   ]
  },
  {
   "cell_type": "code",
   "execution_count": null,
   "id": "82563120",
   "metadata": {},
   "outputs": [],
   "source": []
  },
  {
   "cell_type": "markdown",
   "id": "cc7fd150",
   "metadata": {},
   "source": [
    "## Voorbeeld\n",
    "\n",
    "Gebruik nu [deze dataset](https://www.kaggle.com/c/titanic/overview) om onderstaande vragen op te lossen:\n",
    "* Maak een model om op basis van de kolommen te voorspellen of een bepaalde passagier de tocht op de titanic zou overleven\n",
    "* Bereken voor dit model de accuraatheid, recall, precisie en F1-score. \n",
    "* Probeer hogere-orde features te gebruiken om deze waarden te verhogen\n",
    "* Maak een scatter plot voor de leeftijd vs hoeveel er betaald was voor het ticket. Geef ook aan welke datapunten de ramp overleefd hebben en welke niet.\n",
    "* Maak nu een one-vs-all en one-vs-one classifier aan om de klasse van een persoon te voorspellen op basis van de andere gegevens. Gebruik hiervoor niet de testset omdat hier geen data voor beschikbaar is in de testset maar splits je trainingsset op in twee delen.\n",
    "* Schrijf nu een functie om de confusion matrix en de metrieken per klasse en de gecombineerde F1-scores te bepalen. Zoek naar het beste model.\n",
    "* Welke hyperparameters heb je gebruikt tijdens het zoeken naar het model? Hoeveel parameters heeft je uiteindelijke model?"
   ]
  },
  {
   "cell_type": "code",
   "execution_count": 2,
   "id": "6ff707ad",
   "metadata": {},
   "outputs": [
    {
     "name": "stdout",
     "output_type": "stream",
     "text": [
      "Please provide your Kaggle credentials to download this dataset. Learn more: http://bit.ly/kaggle-creds\n",
      "Your Kaggle username: jensbaetensodisee\n",
      "Your Kaggle Key: ········\n"
     ]
    },
    {
     "name": "stderr",
     "output_type": "stream",
     "text": [
      "100%|█████████████████████████████████████████████████████████████████████████████| 34.1k/34.1k [00:00<00:00, 1.35MB/s]"
     ]
    },
    {
     "name": "stdout",
     "output_type": "stream",
     "text": [
      "Downloading titanic.zip to .\\titanic\n",
      "\n"
     ]
    },
    {
     "name": "stderr",
     "output_type": "stream",
     "text": [
      "\n"
     ]
    }
   ],
   "source": [
    "od.download(\"https://www.kaggle.com/c/titanic/overview\")"
   ]
  },
  {
   "cell_type": "code",
   "execution_count": 3,
   "id": "fb468e94",
   "metadata": {},
   "outputs": [],
   "source": [
    "from zipfile import ZipFile\n",
    "zf = ZipFile(\".\\\\titanic\\\\titanic.zip\")\n",
    "zf.extractall(\".\\\\titanic\")"
   ]
  },
  {
   "cell_type": "code",
   "execution_count": 2,
   "id": "a75de16b",
   "metadata": {
    "scrolled": false
   },
   "outputs": [
    {
     "data": {
      "text/html": [
       "<div>\n",
       "<style scoped>\n",
       "    .dataframe tbody tr th:only-of-type {\n",
       "        vertical-align: middle;\n",
       "    }\n",
       "\n",
       "    .dataframe tbody tr th {\n",
       "        vertical-align: top;\n",
       "    }\n",
       "\n",
       "    .dataframe thead th {\n",
       "        text-align: right;\n",
       "    }\n",
       "</style>\n",
       "<table border=\"1\" class=\"dataframe\">\n",
       "  <thead>\n",
       "    <tr style=\"text-align: right;\">\n",
       "      <th></th>\n",
       "      <th>Survived</th>\n",
       "      <th>Pclass</th>\n",
       "      <th>Sex</th>\n",
       "      <th>Age</th>\n",
       "      <th>SibSp</th>\n",
       "      <th>Parch</th>\n",
       "      <th>Fare</th>\n",
       "      <th>Cabin</th>\n",
       "      <th>Embarked</th>\n",
       "    </tr>\n",
       "  </thead>\n",
       "  <tbody>\n",
       "    <tr>\n",
       "      <th>0</th>\n",
       "      <td>0</td>\n",
       "      <td>3</td>\n",
       "      <td>1.0</td>\n",
       "      <td>22.0</td>\n",
       "      <td>1</td>\n",
       "      <td>0</td>\n",
       "      <td>7.2500</td>\n",
       "      <td>147.0</td>\n",
       "      <td>2.0</td>\n",
       "    </tr>\n",
       "    <tr>\n",
       "      <th>1</th>\n",
       "      <td>1</td>\n",
       "      <td>1</td>\n",
       "      <td>0.0</td>\n",
       "      <td>38.0</td>\n",
       "      <td>1</td>\n",
       "      <td>0</td>\n",
       "      <td>71.2833</td>\n",
       "      <td>81.0</td>\n",
       "      <td>0.0</td>\n",
       "    </tr>\n",
       "    <tr>\n",
       "      <th>2</th>\n",
       "      <td>1</td>\n",
       "      <td>3</td>\n",
       "      <td>0.0</td>\n",
       "      <td>26.0</td>\n",
       "      <td>0</td>\n",
       "      <td>0</td>\n",
       "      <td>7.9250</td>\n",
       "      <td>147.0</td>\n",
       "      <td>2.0</td>\n",
       "    </tr>\n",
       "    <tr>\n",
       "      <th>3</th>\n",
       "      <td>1</td>\n",
       "      <td>1</td>\n",
       "      <td>0.0</td>\n",
       "      <td>35.0</td>\n",
       "      <td>1</td>\n",
       "      <td>0</td>\n",
       "      <td>53.1000</td>\n",
       "      <td>55.0</td>\n",
       "      <td>2.0</td>\n",
       "    </tr>\n",
       "    <tr>\n",
       "      <th>4</th>\n",
       "      <td>0</td>\n",
       "      <td>3</td>\n",
       "      <td>1.0</td>\n",
       "      <td>35.0</td>\n",
       "      <td>0</td>\n",
       "      <td>0</td>\n",
       "      <td>8.0500</td>\n",
       "      <td>147.0</td>\n",
       "      <td>2.0</td>\n",
       "    </tr>\n",
       "  </tbody>\n",
       "</table>\n",
       "</div>"
      ],
      "text/plain": [
       "   Survived  Pclass  Sex   Age  SibSp  Parch     Fare  Cabin  Embarked\n",
       "0         0       3  1.0  22.0      1      0   7.2500  147.0       2.0\n",
       "1         1       1  0.0  38.0      1      0  71.2833   81.0       0.0\n",
       "2         1       3  0.0  26.0      0      0   7.9250  147.0       2.0\n",
       "3         1       1  0.0  35.0      1      0  53.1000   55.0       2.0\n",
       "4         0       3  1.0  35.0      0      0   8.0500  147.0       2.0"
      ]
     },
     "metadata": {},
     "output_type": "display_data"
    },
    {
     "data": {
      "text/plain": [
       "Survived      0\n",
       "Pclass        0\n",
       "Sex           0\n",
       "Age         177\n",
       "SibSp         0\n",
       "Parch         0\n",
       "Fare          0\n",
       "Cabin         0\n",
       "Embarked      0\n",
       "dtype: int64"
      ]
     },
     "metadata": {},
     "output_type": "display_data"
    }
   ],
   "source": [
    "from sklearn.preprocessing import LabelEncoder\n",
    "from sklearn.preprocessing import OrdinalEncoder\n",
    "\n",
    "df_train = pd.read_csv(\".\\\\titanic\\\\train.csv\")\n",
    "df_train.drop([\"PassengerId\", \"Name\", \"Ticket\"], inplace=True, axis=1)\n",
    "#df_train.info()\n",
    "\n",
    "# met label encoder\n",
    "#enc = LabelEncoder()\n",
    "#df_train.Sex = enc.fit_transform(df_train.Sex)\n",
    "#df_train.Cabin = enc.fit_transform(df_train.Cabin)\n",
    "#df_train.Embarked = enc.fit_transform(df_train.Embarked)\n",
    "\n",
    "# met ordinal encoder\n",
    "enc = OrdinalEncoder()\n",
    "categoricals = df_train.select_dtypes(\"object\").columns\n",
    "df_train[categoricals] = df_train[categoricals].fillna(\"Unknown\")\n",
    "df_train[categoricals] = enc.fit_transform(df_train[categoricals])\n",
    "\n",
    "display(df_train.head())\n",
    "\n",
    "display(df_train.isna().sum())\n",
    "df_train.fillna(-1, inplace=True)\n",
    "\n",
    "X=df_train.drop(\"Survived\", axis=1)\n",
    "y = df_train.Survived\n",
    "\n",
    "# doe scaling na de eerste keer de logistic regression te fitten en de fout te bespreken.\n",
    "scaler = StandardScaler()\n",
    "X = scaler.fit_transform(X)\n",
    "\n",
    "X_train, X_test, y_train, y_test = train_test_split(X, y, test_size=0.33)"
   ]
  },
  {
   "cell_type": "code",
   "execution_count": 3,
   "id": "fc36598b",
   "metadata": {},
   "outputs": [],
   "source": [
    "model = LogisticRegression()\n",
    "# dit gaat klagen over scaling -> herhaal dat dit belangrijk is omdat er voor de fouten de afstand genomen wordt!\n",
    "model.fit(X_train, y_train)\n",
    "y_preds = model.predict(X_test)"
   ]
  },
  {
   "cell_type": "code",
   "execution_count": 4,
   "id": "59db0d6d",
   "metadata": {},
   "outputs": [
    {
     "name": "stdout",
     "output_type": "stream",
     "text": [
      "accuracy:  0.7796610169491526\n",
      "confusion matrix:  [[151  30]\n",
      " [ 35  79]]\n",
      "precision_score:  0.7247706422018348\n",
      "recall_score:  0.6929824561403509\n",
      "f1_score:  0.7085201793721974\n"
     ]
    }
   ],
   "source": [
    "from sklearn.metrics import confusion_matrix\n",
    "\n",
    "print(\"accuracy: \", model.score(X_test, y_test))\n",
    "\n",
    "print(\"confusion matrix: \", confusion_matrix(y_test, y_preds))\n",
    "\n",
    "from sklearn.metrics import precision_score\n",
    "from sklearn.metrics import recall_score\n",
    "from sklearn.metrics import f1_score\n",
    "\n",
    "# 84 / (84+27)   (positieve labels alleen standaard)\n",
    "# andere manieren: average{‘micro’, ‘macro’, ‘samples’, ‘weighted’, ‘binary’} or None, default=’binary’\n",
    "print(\"precision_score: \", precision_score(y_test, y_preds))\n",
    "# 84 / (84+31)   (positieve labels alleen standaard)\n",
    "print(\"recall_score: \", recall_score(y_test, y_preds))\n",
    "# berekend uit precision en recall (ongeveer gelijk aan het gemiddelde)\n",
    "print(\"f1_score: \", f1_score(y_test, y_preds))"
   ]
  },
  {
   "cell_type": "code",
   "execution_count": 5,
   "id": "c77580af",
   "metadata": {},
   "outputs": [
    {
     "data": {
      "text/plain": [
       "array([[-0.77614989, -1.33850815, -0.36424739, -0.13809047, -0.08265354,\n",
       "         0.10382761, -0.13781761, -0.19437803]])"
      ]
     },
     "execution_count": 5,
     "metadata": {},
     "output_type": "execute_result"
    }
   ],
   "source": [
    "model.coef_"
   ]
  },
  {
   "cell_type": "code",
   "execution_count": 10,
   "id": "5c04f399",
   "metadata": {},
   "outputs": [
    {
     "name": "stdout",
     "output_type": "stream",
     "text": [
      "accuracy:  0.8203389830508474\n",
      "precision_score:  0.8279569892473119\n",
      "recall_score:  0.6754385964912281\n",
      "f1_score:  0.7439613526570048\n"
     ]
    }
   ],
   "source": [
    "hogere_orde = PolynomialFeatures(3)\n",
    "X_train_2 = hogere_orde.fit_transform(X_train)\n",
    "X_test_2 = hogere_orde.transform(X_test)\n",
    "model = LogisticRegression()\n",
    "# gaat terug klagen over scaling (de nieuwe features gaan kleiner zijn dan 1 dus volgende toevoegen\n",
    "scaler = StandardScaler()\n",
    "X_train_2 = scaler.fit_transform(X_train_2)\n",
    "X_test_2 = scaler.transform(X_test_2)\n",
    "\n",
    "model = LogisticRegression(C=0.1) # indien na scaling nog klaagt, voeg regularisatie toe (bvb 0.1)\n",
    "model.fit(X_train_2, y_train)\n",
    "y_preds = model.predict(X_test_2)\n",
    "\n",
    "print(\"accuracy: \", model.score(X_test_2, y_test))\n",
    "print(\"precision_score: \", precision_score(y_test, y_preds))\n",
    "print(\"recall_score: \", recall_score(y_test, y_preds))\n",
    "print(\"f1_score: \", f1_score(y_test, y_preds))"
   ]
  },
  {
   "cell_type": "code",
   "execution_count": 14,
   "id": "6fdf5f27",
   "metadata": {},
   "outputs": [
    {
     "data": {
      "text/plain": [
       "<AxesSubplot:xlabel='Age', ylabel='Fare'>"
      ]
     },
     "execution_count": 14,
     "metadata": {},
     "output_type": "execute_result"
    },
    {
     "data": {
      "image/png": "[encoded data removed]",
      "text/plain": [
       "<Figure size 432x288 with 1 Axes>"
      ]
     },
     "metadata": {
      "needs_background": "light"
     },
     "output_type": "display_data"
    }
   ],
   "source": [
    "sns.scatterplot(x = 'Age', y ='Fare', data=df_train, hue='Survived')"
   ]
  },
  {
   "cell_type": "code",
   "execution_count": null,
   "id": "752ed94a",
   "metadata": {
    "scrolled": true
   },
   "outputs": [],
   "source": [
    "ovr = OneVsRestClassifier(LogisticRegression(C=0.1))\n",
    "ovo = OneVsOneClassifier(LogicsticRegression(C=0.1))\n",
    "\n",
    "ovo.fit(X_train, X_test)\n",
    "ovo.predict(X_train,X_test)"
   ]
  }
 ],
 "metadata": {
  "kernelspec": {
   "display_name": "Python 3.10.5 64-bit",
   "language": "python",
   "name": "python3"
  },
  "language_info": {
   "codemirror_mode": {
    "name": "ipython",
    "version": 3
   },
   "file_extension": ".py",
   "mimetype": "text/x-python",
   "name": "python",
   "nbconvert_exporter": "python",
   "pygments_lexer": "ipython3",
   "version": "3.10.5"
  },
  "vscode": {
   "interpreter": {
    "hash": "d5e8e3a19af5ceb2434683dff87da6345c3b29f7eb0a8a138558c07d014a01cc"
   }
  }
 },
 "nbformat": 4,
 "nbformat_minor": 5
}
